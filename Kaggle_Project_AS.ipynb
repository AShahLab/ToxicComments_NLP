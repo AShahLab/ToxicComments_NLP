{
  "cells": [
    {
      "cell_type": "markdown",
      "metadata": {
        "id": "view-in-github",
        "colab_type": "text"
      },
      "source": [
        "<a href=\"https://colab.research.google.com/github/AShahLab/ToxicComments_NLP/blob/main/Kaggle_Project_AS.ipynb\" target=\"_parent\"><img src=\"https://colab.research.google.com/assets/colab-badge.svg\" alt=\"Open In Colab\"/></a>"
      ]
    },
    {
      "cell_type": "markdown",
      "metadata": {
        "id": "lNnTTMT9dnM4"
      },
      "source": [
        "# TOXIC COMMENTS NATURAL LANGUAGE PROCESSING\n",
        "**Name:** Awais Shah\n",
        "\n",
        "**Date:** Feb 29\n",
        "\n",
        "--\n",
        "\n",
        "### Problem Statement\n",
        "\n",
        "You are provided with a large number of Wikipedia comments which have been labeled by human raters for toxic behavior. The types of toxicity are:\n",
        "\n",
        "toxic  \n",
        "severe_toxic  \n",
        "obscene  \n",
        "threat  \n",
        "insult  \n",
        "identity_hate   \n",
        "\n",
        "You must create a model which predicts a probability of each type of toxicity for each comment. \n",
        "The metric we will be using is ROC AUC \n",
        "\n",
        "Link to raw data\n",
        "\n",
        "\n",
        "\n",
        "##### [https://drive.google.com/drive/folders/13ql-6srXUHyOqTyWrKowPOWjmji-3kqA?usp=sharing)\n",
        "--\n",
        "\n",
        "To document my weekly progress in this Kaggle project, I've taken notes in the following Google Doc: https://docs.google.com/document/d/1uqpjUP6hm1SOeIPMIRXsP7SGDG-ssX5j1FdbZoICdZE/edit?usp=sharing"
      ]
    },
    {
      "cell_type": "markdown",
      "source": [
        "Import required packages for this notebook."
      ],
      "metadata": {
        "id": "0QMM6zrUBeF7"
      }
    },
    {
      "cell_type": "code",
      "execution_count": null,
      "metadata": {
        "id": "WdNx3CHEdnM5"
      },
      "outputs": [],
      "source": [
        "from sklearn.feature_extraction.text import TfidfVectorizer\n",
        "from sklearn.naive_bayes import MultinomialNB, BernoulliNB\n",
        "from sklearn.pipeline import Pipeline\n",
        "from sklearn.neighbors import KNeighborsClassifier\n",
        "from sklearn.multiclass import OneVsRestClassifier,OneVsOneClassifier\n",
        "from sklearn.model_selection import train_test_split,cross_val_predict\n",
        "from sklearn.metrics import f1_score,ConfusionMatrixDisplay, classification_report,RocCurveDisplay, precision_recall_curve, accuracy_score, confusion_matrix,precision_score,recall_score,roc_curve,roc_auc_score\n",
        "from sklearn.svm import SVC,LinearSVC\n",
        "from sklearn.model_selection import StratifiedKFold\n",
        "from sklearn.base import clone \n",
        "from sklearn.ensemble import RandomForestClassifier\n",
        "from sklearn.linear_model import SGDClassifier,LogisticRegression\n",
        "from sklearn.tree import DecisionTreeRegressor\n",
        "# import mglearn\n",
        "from sklearn.feature_extraction.text import CountVectorizer\n",
        "from sklearn.feature_extraction import _stop_words as stop_words\n",
        "from sklearn.model_selection import  RepeatedStratifiedKFold\n",
        "import string\n",
        "import re\n",
        "import pandas as pd\n",
        "from google.colab import drive\n",
        "import numpy as np\n",
        "import matplotlib\n",
        "import seaborn as sns\n",
        "import matplotlib.pyplot as plt\n",
        "from numpy.ma.core import mean\n",
        "from imblearn.under_sampling import RandomUnderSampler\n",
        "from imblearn.over_sampling import ADASYN\n",
        "from imblearn.combine import SMOTEENN   \n",
        "from sklearn.multioutput import MultiOutputClassifier, ClassifierChain\n",
        "from imblearn.over_sampling import SMOTE\n",
        "from sklearn.metrics._plot.roc_curve import plot_roc_curve\n",
        "from imblearn.under_sampling import RandomUnderSampler\n",
        "from imblearn.pipeline import Pipeline\n",
        "from sklearn.tree import DecisionTreeClassifier\n",
        "from sklearn.model_selection import RepeatedStratifiedKFold\n",
        "from sklearn.model_selection import cross_val_score\n",
        "from sklearn.metrics import auc"
      ]
    },
    {
      "cell_type": "markdown",
      "metadata": {
        "id": "v-eh9IKUfTdQ"
      },
      "source": [
        "## Load the data"
      ]
    },
    {
      "cell_type": "markdown",
      "metadata": {
        "id": "AQqh5DMaq9QW"
      },
      "source": [
        "This mounts your Google Drive at the location `/content/drive` on the virtual machine running this notebook."
      ]
    },
    {
      "cell_type": "code",
      "execution_count": null,
      "metadata": {
        "id": "Mqah54vN8CVB",
        "colab": {
          "base_uri": "https://localhost:8080/"
        },
        "outputId": "816cd38c-61fb-4d52-979c-88efa9a66335"
      },
      "outputs": [
        {
          "output_type": "stream",
          "name": "stdout",
          "text": [
            "Mounted at /content/drive\n"
          ]
        }
      ],
      "source": [
        "drive.mount('/content/drive')\n",
        "filepath = '/content/drive/My Drive/Kaggle/train.csv'\n",
        "test_filepath='/content/drive/My Drive/Kaggle/test.csv'\n",
        "test_labels_filepath='/content/drive/My Drive/Kaggle/test_labels.csv'\n",
        "df=pd.read_csv(filepath)\n",
        "df_test_comments=pd.read_csv(test_filepath)\n",
        "df_test_labels=pd.read_csv(test_labels_filepath)\n",
        "df_test=pd.merge(df_test_comments,df_test_labels,on=['id'])"
      ]
    },
    {
      "cell_type": "markdown",
      "source": [
        "I want to ensure I can see the full text for the first few rows of the training data set"
      ],
      "metadata": {
        "id": "KjKS58z8lMSD"
      }
    },
    {
      "cell_type": "code",
      "source": [
        "pd.set_option('display.max_colwidth',10000)"
      ],
      "metadata": {
        "id": "sm5fpe_sX2FS"
      },
      "execution_count": null,
      "outputs": []
    },
    {
      "cell_type": "markdown",
      "source": [
        "After bringing the data in, we can see what the data looks like. The comment_text column seems to have some grammatical issues that need to be cleaned and we can also see that our Y variable is multiple columns i.e. it is a multilabel classification problem"
      ],
      "metadata": {
        "id": "6uj3QQErmN_9"
      }
    },
    {
      "cell_type": "code",
      "source": [
        "df=pd.read_csv(filepath)\n",
        "df.head()"
      ],
      "metadata": {
        "id": "y14MtEU6BmR_",
        "colab": {
          "base_uri": "https://localhost:8080/",
          "height": 285
        },
        "outputId": "d337e921-9426-4189-95a2-24a0eab4fae5"
      },
      "execution_count": null,
      "outputs": [
        {
          "output_type": "execute_result",
          "data": {
            "text/plain": [
              "                 id  \\\n",
              "0  0000997932d777bf   \n",
              "1  000103f0d9cfb60f   \n",
              "2  000113f07ec002fd   \n",
              "3  0001b41b1c6bb37e   \n",
              "4  0001d958c54c6e35   \n",
              "\n",
              "                                                                                                                                                                                                                                                                                                                                                                                                                                                                                                                                                                                                                                         comment_text  \\\n",
              "0                                                                                                                                                                                                                                                                                                                                                                           Explanation\\nWhy the edits made under my username Hardcore Metallica Fan were reverted? They weren't vandalisms, just closure on some GAs after I voted at New York Dolls FAC. And please don't remove the template from the talk page since I'm retired now.89.205.38.27   \n",
              "1                                                                                                                                                                                                                                                                                                                                                                                                                                                                                                                                    D'aww! He matches this background colour I'm seemingly stuck with. Thanks.  (talk) 21:51, January 11, 2016 (UTC)   \n",
              "2                                                                                                                                                                                                                                                                                                                                                                                                           Hey man, I'm really not trying to edit war. It's just that this guy is constantly removing relevant information and talking to me through edits instead of my talk page. He seems to care more about the formatting than the actual info.   \n",
              "3  \"\\nMore\\nI can't make any real suggestions on improvement - I wondered if the section statistics should be later on, or a subsection of \"\"types of accidents\"\"  -I think the references may need tidying so that they are all in the exact same format ie date format etc. I can do that later on, if no-one else does first - if you have any preferences for formatting style on references or want to do it yourself please let me know.\\n\\nThere appears to be a backlog on articles for review so I guess there may be a delay until a reviewer turns up. It's listed in the relevant form eg Wikipedia:Good_article_nominations#Transport  \"   \n",
              "4                                                                                                                                                                                                                                                                                                                                                                                                                                                                                                                                                                                 You, sir, are my hero. Any chance you remember what page that's on?   \n",
              "\n",
              "   toxic  severe_toxic  obscene  threat  insult  identity_hate  \n",
              "0      0             0        0       0       0              0  \n",
              "1      0             0        0       0       0              0  \n",
              "2      0             0        0       0       0              0  \n",
              "3      0             0        0       0       0              0  \n",
              "4      0             0        0       0       0              0  "
            ],
            "text/html": [
              "\n",
              "  <div id=\"df-873741ef-0c93-47f5-a1bb-d6979c00cb13\">\n",
              "    <div class=\"colab-df-container\">\n",
              "      <div>\n",
              "<style scoped>\n",
              "    .dataframe tbody tr th:only-of-type {\n",
              "        vertical-align: middle;\n",
              "    }\n",
              "\n",
              "    .dataframe tbody tr th {\n",
              "        vertical-align: top;\n",
              "    }\n",
              "\n",
              "    .dataframe thead th {\n",
              "        text-align: right;\n",
              "    }\n",
              "</style>\n",
              "<table border=\"1\" class=\"dataframe\">\n",
              "  <thead>\n",
              "    <tr style=\"text-align: right;\">\n",
              "      <th></th>\n",
              "      <th>id</th>\n",
              "      <th>comment_text</th>\n",
              "      <th>toxic</th>\n",
              "      <th>severe_toxic</th>\n",
              "      <th>obscene</th>\n",
              "      <th>threat</th>\n",
              "      <th>insult</th>\n",
              "      <th>identity_hate</th>\n",
              "    </tr>\n",
              "  </thead>\n",
              "  <tbody>\n",
              "    <tr>\n",
              "      <th>0</th>\n",
              "      <td>0000997932d777bf</td>\n",
              "      <td>Explanation\\nWhy the edits made under my username Hardcore Metallica Fan were reverted? They weren't vandalisms, just closure on some GAs after I voted at New York Dolls FAC. And please don't remove the template from the talk page since I'm retired now.89.205.38.27</td>\n",
              "      <td>0</td>\n",
              "      <td>0</td>\n",
              "      <td>0</td>\n",
              "      <td>0</td>\n",
              "      <td>0</td>\n",
              "      <td>0</td>\n",
              "    </tr>\n",
              "    <tr>\n",
              "      <th>1</th>\n",
              "      <td>000103f0d9cfb60f</td>\n",
              "      <td>D'aww! He matches this background colour I'm seemingly stuck with. Thanks.  (talk) 21:51, January 11, 2016 (UTC)</td>\n",
              "      <td>0</td>\n",
              "      <td>0</td>\n",
              "      <td>0</td>\n",
              "      <td>0</td>\n",
              "      <td>0</td>\n",
              "      <td>0</td>\n",
              "    </tr>\n",
              "    <tr>\n",
              "      <th>2</th>\n",
              "      <td>000113f07ec002fd</td>\n",
              "      <td>Hey man, I'm really not trying to edit war. It's just that this guy is constantly removing relevant information and talking to me through edits instead of my talk page. He seems to care more about the formatting than the actual info.</td>\n",
              "      <td>0</td>\n",
              "      <td>0</td>\n",
              "      <td>0</td>\n",
              "      <td>0</td>\n",
              "      <td>0</td>\n",
              "      <td>0</td>\n",
              "    </tr>\n",
              "    <tr>\n",
              "      <th>3</th>\n",
              "      <td>0001b41b1c6bb37e</td>\n",
              "      <td>\"\\nMore\\nI can't make any real suggestions on improvement - I wondered if the section statistics should be later on, or a subsection of \"\"types of accidents\"\"  -I think the references may need tidying so that they are all in the exact same format ie date format etc. I can do that later on, if no-one else does first - if you have any preferences for formatting style on references or want to do it yourself please let me know.\\n\\nThere appears to be a backlog on articles for review so I guess there may be a delay until a reviewer turns up. It's listed in the relevant form eg Wikipedia:Good_article_nominations#Transport  \"</td>\n",
              "      <td>0</td>\n",
              "      <td>0</td>\n",
              "      <td>0</td>\n",
              "      <td>0</td>\n",
              "      <td>0</td>\n",
              "      <td>0</td>\n",
              "    </tr>\n",
              "    <tr>\n",
              "      <th>4</th>\n",
              "      <td>0001d958c54c6e35</td>\n",
              "      <td>You, sir, are my hero. Any chance you remember what page that's on?</td>\n",
              "      <td>0</td>\n",
              "      <td>0</td>\n",
              "      <td>0</td>\n",
              "      <td>0</td>\n",
              "      <td>0</td>\n",
              "      <td>0</td>\n",
              "    </tr>\n",
              "  </tbody>\n",
              "</table>\n",
              "</div>\n",
              "      <button class=\"colab-df-convert\" onclick=\"convertToInteractive('df-873741ef-0c93-47f5-a1bb-d6979c00cb13')\"\n",
              "              title=\"Convert this dataframe to an interactive table.\"\n",
              "              style=\"display:none;\">\n",
              "        \n",
              "  <svg xmlns=\"http://www.w3.org/2000/svg\" height=\"24px\"viewBox=\"0 0 24 24\"\n",
              "       width=\"24px\">\n",
              "    <path d=\"M0 0h24v24H0V0z\" fill=\"none\"/>\n",
              "    <path d=\"M18.56 5.44l.94 2.06.94-2.06 2.06-.94-2.06-.94-.94-2.06-.94 2.06-2.06.94zm-11 1L8.5 8.5l.94-2.06 2.06-.94-2.06-.94L8.5 2.5l-.94 2.06-2.06.94zm10 10l.94 2.06.94-2.06 2.06-.94-2.06-.94-.94-2.06-.94 2.06-2.06.94z\"/><path d=\"M17.41 7.96l-1.37-1.37c-.4-.4-.92-.59-1.43-.59-.52 0-1.04.2-1.43.59L10.3 9.45l-7.72 7.72c-.78.78-.78 2.05 0 2.83L4 21.41c.39.39.9.59 1.41.59.51 0 1.02-.2 1.41-.59l7.78-7.78 2.81-2.81c.8-.78.8-2.07 0-2.86zM5.41 20L4 18.59l7.72-7.72 1.47 1.35L5.41 20z\"/>\n",
              "  </svg>\n",
              "      </button>\n",
              "      \n",
              "  <style>\n",
              "    .colab-df-container {\n",
              "      display:flex;\n",
              "      flex-wrap:wrap;\n",
              "      gap: 12px;\n",
              "    }\n",
              "\n",
              "    .colab-df-convert {\n",
              "      background-color: #E8F0FE;\n",
              "      border: none;\n",
              "      border-radius: 50%;\n",
              "      cursor: pointer;\n",
              "      display: none;\n",
              "      fill: #1967D2;\n",
              "      height: 32px;\n",
              "      padding: 0 0 0 0;\n",
              "      width: 32px;\n",
              "    }\n",
              "\n",
              "    .colab-df-convert:hover {\n",
              "      background-color: #E2EBFA;\n",
              "      box-shadow: 0px 1px 2px rgba(60, 64, 67, 0.3), 0px 1px 3px 1px rgba(60, 64, 67, 0.15);\n",
              "      fill: #174EA6;\n",
              "    }\n",
              "\n",
              "    [theme=dark] .colab-df-convert {\n",
              "      background-color: #3B4455;\n",
              "      fill: #D2E3FC;\n",
              "    }\n",
              "\n",
              "    [theme=dark] .colab-df-convert:hover {\n",
              "      background-color: #434B5C;\n",
              "      box-shadow: 0px 1px 3px 1px rgba(0, 0, 0, 0.15);\n",
              "      filter: drop-shadow(0px 1px 2px rgba(0, 0, 0, 0.3));\n",
              "      fill: #FFFFFF;\n",
              "    }\n",
              "  </style>\n",
              "\n",
              "      <script>\n",
              "        const buttonEl =\n",
              "          document.querySelector('#df-873741ef-0c93-47f5-a1bb-d6979c00cb13 button.colab-df-convert');\n",
              "        buttonEl.style.display =\n",
              "          google.colab.kernel.accessAllowed ? 'block' : 'none';\n",
              "\n",
              "        async function convertToInteractive(key) {\n",
              "          const element = document.querySelector('#df-873741ef-0c93-47f5-a1bb-d6979c00cb13');\n",
              "          const dataTable =\n",
              "            await google.colab.kernel.invokeFunction('convertToInteractive',\n",
              "                                                     [key], {});\n",
              "          if (!dataTable) return;\n",
              "\n",
              "          const docLinkHtml = 'Like what you see? Visit the ' +\n",
              "            '<a target=\"_blank\" href=https://colab.research.google.com/notebooks/data_table.ipynb>data table notebook</a>'\n",
              "            + ' to learn more about interactive tables.';\n",
              "          element.innerHTML = '';\n",
              "          dataTable['output_type'] = 'display_data';\n",
              "          await google.colab.output.renderOutput(dataTable, element);\n",
              "          const docLink = document.createElement('div');\n",
              "          docLink.innerHTML = docLinkHtml;\n",
              "          element.appendChild(docLink);\n",
              "        }\n",
              "      </script>\n",
              "    </div>\n",
              "  </div>\n",
              "  "
            ]
          },
          "metadata": {},
          "execution_count": 4
        }
      ]
    },
    {
      "cell_type": "code",
      "source": [
        "df.describe()"
      ],
      "metadata": {
        "colab": {
          "base_uri": "https://localhost:8080/",
          "height": 300
        },
        "id": "3Sez43aD22Vk",
        "outputId": "b9b4b30c-f698-4fb9-e4c9-a3825a35a70a"
      },
      "execution_count": null,
      "outputs": [
        {
          "output_type": "execute_result",
          "data": {
            "text/plain": [
              "               toxic   severe_toxic        obscene         threat  \\\n",
              "count  159571.000000  159571.000000  159571.000000  159571.000000   \n",
              "mean        0.095844       0.009996       0.052948       0.002996   \n",
              "std         0.294379       0.099477       0.223931       0.054650   \n",
              "min         0.000000       0.000000       0.000000       0.000000   \n",
              "25%         0.000000       0.000000       0.000000       0.000000   \n",
              "50%         0.000000       0.000000       0.000000       0.000000   \n",
              "75%         0.000000       0.000000       0.000000       0.000000   \n",
              "max         1.000000       1.000000       1.000000       1.000000   \n",
              "\n",
              "              insult  identity_hate  \n",
              "count  159571.000000  159571.000000  \n",
              "mean        0.049364       0.008805  \n",
              "std         0.216627       0.093420  \n",
              "min         0.000000       0.000000  \n",
              "25%         0.000000       0.000000  \n",
              "50%         0.000000       0.000000  \n",
              "75%         0.000000       0.000000  \n",
              "max         1.000000       1.000000  "
            ],
            "text/html": [
              "\n",
              "  <div id=\"df-b8a99f7f-2a40-4e1c-b3d5-90d7e58df0e8\">\n",
              "    <div class=\"colab-df-container\">\n",
              "      <div>\n",
              "<style scoped>\n",
              "    .dataframe tbody tr th:only-of-type {\n",
              "        vertical-align: middle;\n",
              "    }\n",
              "\n",
              "    .dataframe tbody tr th {\n",
              "        vertical-align: top;\n",
              "    }\n",
              "\n",
              "    .dataframe thead th {\n",
              "        text-align: right;\n",
              "    }\n",
              "</style>\n",
              "<table border=\"1\" class=\"dataframe\">\n",
              "  <thead>\n",
              "    <tr style=\"text-align: right;\">\n",
              "      <th></th>\n",
              "      <th>toxic</th>\n",
              "      <th>severe_toxic</th>\n",
              "      <th>obscene</th>\n",
              "      <th>threat</th>\n",
              "      <th>insult</th>\n",
              "      <th>identity_hate</th>\n",
              "    </tr>\n",
              "  </thead>\n",
              "  <tbody>\n",
              "    <tr>\n",
              "      <th>count</th>\n",
              "      <td>159571.000000</td>\n",
              "      <td>159571.000000</td>\n",
              "      <td>159571.000000</td>\n",
              "      <td>159571.000000</td>\n",
              "      <td>159571.000000</td>\n",
              "      <td>159571.000000</td>\n",
              "    </tr>\n",
              "    <tr>\n",
              "      <th>mean</th>\n",
              "      <td>0.095844</td>\n",
              "      <td>0.009996</td>\n",
              "      <td>0.052948</td>\n",
              "      <td>0.002996</td>\n",
              "      <td>0.049364</td>\n",
              "      <td>0.008805</td>\n",
              "    </tr>\n",
              "    <tr>\n",
              "      <th>std</th>\n",
              "      <td>0.294379</td>\n",
              "      <td>0.099477</td>\n",
              "      <td>0.223931</td>\n",
              "      <td>0.054650</td>\n",
              "      <td>0.216627</td>\n",
              "      <td>0.093420</td>\n",
              "    </tr>\n",
              "    <tr>\n",
              "      <th>min</th>\n",
              "      <td>0.000000</td>\n",
              "      <td>0.000000</td>\n",
              "      <td>0.000000</td>\n",
              "      <td>0.000000</td>\n",
              "      <td>0.000000</td>\n",
              "      <td>0.000000</td>\n",
              "    </tr>\n",
              "    <tr>\n",
              "      <th>25%</th>\n",
              "      <td>0.000000</td>\n",
              "      <td>0.000000</td>\n",
              "      <td>0.000000</td>\n",
              "      <td>0.000000</td>\n",
              "      <td>0.000000</td>\n",
              "      <td>0.000000</td>\n",
              "    </tr>\n",
              "    <tr>\n",
              "      <th>50%</th>\n",
              "      <td>0.000000</td>\n",
              "      <td>0.000000</td>\n",
              "      <td>0.000000</td>\n",
              "      <td>0.000000</td>\n",
              "      <td>0.000000</td>\n",
              "      <td>0.000000</td>\n",
              "    </tr>\n",
              "    <tr>\n",
              "      <th>75%</th>\n",
              "      <td>0.000000</td>\n",
              "      <td>0.000000</td>\n",
              "      <td>0.000000</td>\n",
              "      <td>0.000000</td>\n",
              "      <td>0.000000</td>\n",
              "      <td>0.000000</td>\n",
              "    </tr>\n",
              "    <tr>\n",
              "      <th>max</th>\n",
              "      <td>1.000000</td>\n",
              "      <td>1.000000</td>\n",
              "      <td>1.000000</td>\n",
              "      <td>1.000000</td>\n",
              "      <td>1.000000</td>\n",
              "      <td>1.000000</td>\n",
              "    </tr>\n",
              "  </tbody>\n",
              "</table>\n",
              "</div>\n",
              "      <button class=\"colab-df-convert\" onclick=\"convertToInteractive('df-b8a99f7f-2a40-4e1c-b3d5-90d7e58df0e8')\"\n",
              "              title=\"Convert this dataframe to an interactive table.\"\n",
              "              style=\"display:none;\">\n",
              "        \n",
              "  <svg xmlns=\"http://www.w3.org/2000/svg\" height=\"24px\"viewBox=\"0 0 24 24\"\n",
              "       width=\"24px\">\n",
              "    <path d=\"M0 0h24v24H0V0z\" fill=\"none\"/>\n",
              "    <path d=\"M18.56 5.44l.94 2.06.94-2.06 2.06-.94-2.06-.94-.94-2.06-.94 2.06-2.06.94zm-11 1L8.5 8.5l.94-2.06 2.06-.94-2.06-.94L8.5 2.5l-.94 2.06-2.06.94zm10 10l.94 2.06.94-2.06 2.06-.94-2.06-.94-.94-2.06-.94 2.06-2.06.94z\"/><path d=\"M17.41 7.96l-1.37-1.37c-.4-.4-.92-.59-1.43-.59-.52 0-1.04.2-1.43.59L10.3 9.45l-7.72 7.72c-.78.78-.78 2.05 0 2.83L4 21.41c.39.39.9.59 1.41.59.51 0 1.02-.2 1.41-.59l7.78-7.78 2.81-2.81c.8-.78.8-2.07 0-2.86zM5.41 20L4 18.59l7.72-7.72 1.47 1.35L5.41 20z\"/>\n",
              "  </svg>\n",
              "      </button>\n",
              "      \n",
              "  <style>\n",
              "    .colab-df-container {\n",
              "      display:flex;\n",
              "      flex-wrap:wrap;\n",
              "      gap: 12px;\n",
              "    }\n",
              "\n",
              "    .colab-df-convert {\n",
              "      background-color: #E8F0FE;\n",
              "      border: none;\n",
              "      border-radius: 50%;\n",
              "      cursor: pointer;\n",
              "      display: none;\n",
              "      fill: #1967D2;\n",
              "      height: 32px;\n",
              "      padding: 0 0 0 0;\n",
              "      width: 32px;\n",
              "    }\n",
              "\n",
              "    .colab-df-convert:hover {\n",
              "      background-color: #E2EBFA;\n",
              "      box-shadow: 0px 1px 2px rgba(60, 64, 67, 0.3), 0px 1px 3px 1px rgba(60, 64, 67, 0.15);\n",
              "      fill: #174EA6;\n",
              "    }\n",
              "\n",
              "    [theme=dark] .colab-df-convert {\n",
              "      background-color: #3B4455;\n",
              "      fill: #D2E3FC;\n",
              "    }\n",
              "\n",
              "    [theme=dark] .colab-df-convert:hover {\n",
              "      background-color: #434B5C;\n",
              "      box-shadow: 0px 1px 3px 1px rgba(0, 0, 0, 0.15);\n",
              "      filter: drop-shadow(0px 1px 2px rgba(0, 0, 0, 0.3));\n",
              "      fill: #FFFFFF;\n",
              "    }\n",
              "  </style>\n",
              "\n",
              "      <script>\n",
              "        const buttonEl =\n",
              "          document.querySelector('#df-b8a99f7f-2a40-4e1c-b3d5-90d7e58df0e8 button.colab-df-convert');\n",
              "        buttonEl.style.display =\n",
              "          google.colab.kernel.accessAllowed ? 'block' : 'none';\n",
              "\n",
              "        async function convertToInteractive(key) {\n",
              "          const element = document.querySelector('#df-b8a99f7f-2a40-4e1c-b3d5-90d7e58df0e8');\n",
              "          const dataTable =\n",
              "            await google.colab.kernel.invokeFunction('convertToInteractive',\n",
              "                                                     [key], {});\n",
              "          if (!dataTable) return;\n",
              "\n",
              "          const docLinkHtml = 'Like what you see? Visit the ' +\n",
              "            '<a target=\"_blank\" href=https://colab.research.google.com/notebooks/data_table.ipynb>data table notebook</a>'\n",
              "            + ' to learn more about interactive tables.';\n",
              "          element.innerHTML = '';\n",
              "          dataTable['output_type'] = 'display_data';\n",
              "          await google.colab.output.renderOutput(dataTable, element);\n",
              "          const docLink = document.createElement('div');\n",
              "          docLink.innerHTML = docLinkHtml;\n",
              "          element.appendChild(docLink);\n",
              "        }\n",
              "      </script>\n",
              "    </div>\n",
              "  </div>\n",
              "  "
            ]
          },
          "metadata": {},
          "execution_count": 5
        }
      ]
    },
    {
      "cell_type": "markdown",
      "metadata": {
        "id": "kcmsU-T1dnNF"
      },
      "source": [
        "## Defining the problem: EDA and Data Pre-processing"
      ]
    },
    {
      "cell_type": "markdown",
      "source": [
        "Following code calculates impurity values i.e. impure portion document length divided by length of full document. Impurity here is defined by `RE_SUSPICIOUS=re.compile(r'[&#<>{}\\[\\]\\\\]')`"
      ],
      "metadata": {
        "id": "o1SvDc-smmzA"
      }
    },
    {
      "cell_type": "code",
      "source": [
        "# Let's clean some of the data. As you can see, there are a lot of transfer notations that may cause our model to not perform at its best.\n",
        "import re\n",
        "imp=[]\n",
        "RE_SUSPICIOUS=re.compile(r'[&#<>{}\\[\\]\\\\]')\n",
        "def impurity(text,min_len=10):\n",
        "  # returns bad text\n",
        "  if text==None or len(text)<min_len:\n",
        "    return 0\n",
        "  else:\n",
        "    return len(RE_SUSPICIOUS.findall(text))/len(text)\n",
        "\n",
        "[imp.append(impurity(df[\"comment_text\"][i])) for i,text in enumerate(df[\"comment_text\"])]\n",
        "  \n",
        "print(mean(imp))\n"
      ],
      "metadata": {
        "colab": {
          "base_uri": "https://localhost:8080/"
        },
        "id": "J9elw3tWLM8S",
        "outputId": "3442d3ac-38b1-4574-9863-19ecf40b39dc"
      },
      "execution_count": null,
      "outputs": [
        {
          "output_type": "stream",
          "name": "stdout",
          "text": [
            "0.000903229409441793\n"
          ]
        }
      ]
    },
    {
      "cell_type": "markdown",
      "source": [
        "Our impurity score is pretty low but we still want to get rid of some transfer notations that can affect our test results. We will now set up a function to clean up the data before doing our EDA"
      ],
      "metadata": {
        "id": "a_nb2x0Sm75d"
      }
    },
    {
      "cell_type": "code",
      "source": [
        "def clean(text):\n",
        "    # standalone sequences of specials, matches &# but not #cool\n",
        "    text = re.sub(r'(?:^|\\s)[&#<>{}\\[\\]+|\\\\:-]{1,}(?:\\s|$)', ' ', text)\n",
        "    # standalone sequences of hyphens like --- or ==”\n",
        "    text = re.sub(r'(?:^|\\s)[\\-=\\+]{2,}(?:\\s|$)', ' ', text)\n",
        "    # sequences of white spaces\n",
        "    text = re.sub(r'\\s+', ' ', text)\n",
        "    \n",
        "    return text.strip()"
      ],
      "metadata": {
        "id": "neYyLXpuN9go"
      },
      "execution_count": null,
      "outputs": []
    },
    {
      "cell_type": "code",
      "source": [
        "def decontracted(phrase):\n",
        "    # specific\n",
        "    phrase = re.sub(r\"won\\'t\", \"will not\", phrase)\n",
        "    phrase = re.sub(r\"can\\'t\", \"can not\", phrase)\n",
        "\n",
        "    # general\n",
        "    phrase = re.sub(r\"n\\'t\", \" not\", phrase)\n",
        "    phrase = re.sub(r\"\\'re\", \" are\", phrase)\n",
        "    phrase = re.sub(r\"\\'s\", \" is\", phrase)\n",
        "    phrase = re.sub(r\"\\'d\", \" would\", phrase)\n",
        "    phrase = re.sub(r\"\\'ll\", \" will\", phrase)\n",
        "    phrase = re.sub(r\"\\'t\", \" not\", phrase)\n",
        "    phrase = re.sub(r\"\\'ve\", \" have\", phrase)\n",
        "    phrase = re.sub(r\"\\'m\", \" am\", phrase)\n",
        "    return phrase"
      ],
      "metadata": {
        "id": "ipeAc9MuHZm1"
      },
      "execution_count": null,
      "outputs": []
    },
    {
      "cell_type": "code",
      "source": [
        "df[\"comment_text\"]=df[\"comment_text\"].apply(clean)\n",
        "df_test[\"comment_text\"]=df_test[\"comment_text\"].apply(clean)"
      ],
      "metadata": {
        "id": "JmVoeL2uIT99"
      },
      "execution_count": null,
      "outputs": []
    },
    {
      "cell_type": "code",
      "source": [
        "df[\"comment_text\"]=df[\"comment_text\"].apply(decontracted)\n",
        "df_test[\"comment_text\"]=df_test[\"comment_text\"].apply(decontracted)"
      ],
      "metadata": {
        "id": "SAmv7AAnIxo5"
      },
      "execution_count": null,
      "outputs": []
    },
    {
      "cell_type": "code",
      "source": [
        "mean(df[\"comment_text\"].apply(impurity))"
      ],
      "metadata": {
        "colab": {
          "base_uri": "https://localhost:8080/"
        },
        "id": "vI4KVR4KJZjn",
        "outputId": "7deb053a-dec8-4416-aa39-b7a7d9705d6a"
      },
      "execution_count": null,
      "outputs": [
        {
          "output_type": "execute_result",
          "data": {
            "text/plain": [
              "0.0007250642838586591"
            ]
          },
          "metadata": {},
          "execution_count": 11
        }
      ]
    },
    {
      "cell_type": "markdown",
      "source": [
        "As you can see our impurity levels have gone down. Let's look at the data one more time before we move on."
      ],
      "metadata": {
        "id": "nYWmZWE7nd_n"
      }
    },
    {
      "cell_type": "code",
      "source": [
        "df.head()\n"
      ],
      "metadata": {
        "id": "MLqVaESC3F8q",
        "colab": {
          "base_uri": "https://localhost:8080/",
          "height": 337
        },
        "outputId": "b5dc0126-9ecc-4f4e-d7dd-4fd2828a3cee"
      },
      "execution_count": null,
      "outputs": [
        {
          "output_type": "execute_result",
          "data": {
            "text/plain": [
              "                 id  \\\n",
              "0  0000997932d777bf   \n",
              "1  000103f0d9cfb60f   \n",
              "2  000113f07ec002fd   \n",
              "3  0001b41b1c6bb37e   \n",
              "4  0001d958c54c6e35   \n",
              "\n",
              "                                                                                                                                                                                                                                                                                                                                                                                                                                                                                                                                                                                                                                 comment_text  \\\n",
              "0                                                                                                                                                                                                                                                                                                                                                                 Explanation Why the edits made under my username Hardcore Metallica Fan were reverted? They were not vandalisms, just closure on some GAs after I voted at New York Dolls FAC. And please do not remove the template from the talk page since I am retired now.89.205.38.27   \n",
              "1                                                                                                                                                                                                                                                                                                                                                                                                                                                                                                                            D'aww! He matches this background colour I am seemingly stuck with. Thanks. (talk) 21:51, January 11, 2016 (UTC)   \n",
              "2                                                                                                                                                                                                                                                                                                                                                                                                 Hey man, I am really not trying to edit war. It is just that this guy is constantly removing relevant information and talking to me through edits instead of my talk page. He seems to care more about the formatting than the actual info.   \n",
              "3  \" More I can not make any real suggestions on improvement I wondered if the section statistics should be later on, or a subsection of \"\"types of accidents\"\" -I think the references may need tidying so that they are all in the exact same format ie date format etc. I can do that later on, if no-one else does first if you have any preferences for formatting style on references or want to do it yourself please let me know. There appears to be a backlog on articles for review so I guess there may be a delay until a reviewer turns up. It is listed in the relevant form eg Wikipedia:Good_article_nominations#Transport \"   \n",
              "4                                                                                                                                                                                                                                                                                                                                                                                                                                                                                                                                                                        You, sir, are my hero. Any chance you remember what page that is on?   \n",
              "\n",
              "   toxic  severe_toxic  obscene  threat  insult  identity_hate  \n",
              "0      0             0        0       0       0              0  \n",
              "1      0             0        0       0       0              0  \n",
              "2      0             0        0       0       0              0  \n",
              "3      0             0        0       0       0              0  \n",
              "4      0             0        0       0       0              0  "
            ],
            "text/html": [
              "\n",
              "  <div id=\"df-cef79190-083f-4344-b35d-266db740b7ff\">\n",
              "    <div class=\"colab-df-container\">\n",
              "      <div>\n",
              "<style scoped>\n",
              "    .dataframe tbody tr th:only-of-type {\n",
              "        vertical-align: middle;\n",
              "    }\n",
              "\n",
              "    .dataframe tbody tr th {\n",
              "        vertical-align: top;\n",
              "    }\n",
              "\n",
              "    .dataframe thead th {\n",
              "        text-align: right;\n",
              "    }\n",
              "</style>\n",
              "<table border=\"1\" class=\"dataframe\">\n",
              "  <thead>\n",
              "    <tr style=\"text-align: right;\">\n",
              "      <th></th>\n",
              "      <th>id</th>\n",
              "      <th>comment_text</th>\n",
              "      <th>toxic</th>\n",
              "      <th>severe_toxic</th>\n",
              "      <th>obscene</th>\n",
              "      <th>threat</th>\n",
              "      <th>insult</th>\n",
              "      <th>identity_hate</th>\n",
              "    </tr>\n",
              "  </thead>\n",
              "  <tbody>\n",
              "    <tr>\n",
              "      <th>0</th>\n",
              "      <td>0000997932d777bf</td>\n",
              "      <td>Explanation Why the edits made under my username Hardcore Metallica Fan were reverted? They were not vandalisms, just closure on some GAs after I voted at New York Dolls FAC. And please do not remove the template from the talk page since I am retired now.89.205.38.27</td>\n",
              "      <td>0</td>\n",
              "      <td>0</td>\n",
              "      <td>0</td>\n",
              "      <td>0</td>\n",
              "      <td>0</td>\n",
              "      <td>0</td>\n",
              "    </tr>\n",
              "    <tr>\n",
              "      <th>1</th>\n",
              "      <td>000103f0d9cfb60f</td>\n",
              "      <td>D'aww! He matches this background colour I am seemingly stuck with. Thanks. (talk) 21:51, January 11, 2016 (UTC)</td>\n",
              "      <td>0</td>\n",
              "      <td>0</td>\n",
              "      <td>0</td>\n",
              "      <td>0</td>\n",
              "      <td>0</td>\n",
              "      <td>0</td>\n",
              "    </tr>\n",
              "    <tr>\n",
              "      <th>2</th>\n",
              "      <td>000113f07ec002fd</td>\n",
              "      <td>Hey man, I am really not trying to edit war. It is just that this guy is constantly removing relevant information and talking to me through edits instead of my talk page. He seems to care more about the formatting than the actual info.</td>\n",
              "      <td>0</td>\n",
              "      <td>0</td>\n",
              "      <td>0</td>\n",
              "      <td>0</td>\n",
              "      <td>0</td>\n",
              "      <td>0</td>\n",
              "    </tr>\n",
              "    <tr>\n",
              "      <th>3</th>\n",
              "      <td>0001b41b1c6bb37e</td>\n",
              "      <td>\" More I can not make any real suggestions on improvement I wondered if the section statistics should be later on, or a subsection of \"\"types of accidents\"\" -I think the references may need tidying so that they are all in the exact same format ie date format etc. I can do that later on, if no-one else does first if you have any preferences for formatting style on references or want to do it yourself please let me know. There appears to be a backlog on articles for review so I guess there may be a delay until a reviewer turns up. It is listed in the relevant form eg Wikipedia:Good_article_nominations#Transport \"</td>\n",
              "      <td>0</td>\n",
              "      <td>0</td>\n",
              "      <td>0</td>\n",
              "      <td>0</td>\n",
              "      <td>0</td>\n",
              "      <td>0</td>\n",
              "    </tr>\n",
              "    <tr>\n",
              "      <th>4</th>\n",
              "      <td>0001d958c54c6e35</td>\n",
              "      <td>You, sir, are my hero. Any chance you remember what page that is on?</td>\n",
              "      <td>0</td>\n",
              "      <td>0</td>\n",
              "      <td>0</td>\n",
              "      <td>0</td>\n",
              "      <td>0</td>\n",
              "      <td>0</td>\n",
              "    </tr>\n",
              "  </tbody>\n",
              "</table>\n",
              "</div>\n",
              "      <button class=\"colab-df-convert\" onclick=\"convertToInteractive('df-cef79190-083f-4344-b35d-266db740b7ff')\"\n",
              "              title=\"Convert this dataframe to an interactive table.\"\n",
              "              style=\"display:none;\">\n",
              "        \n",
              "  <svg xmlns=\"http://www.w3.org/2000/svg\" height=\"24px\"viewBox=\"0 0 24 24\"\n",
              "       width=\"24px\">\n",
              "    <path d=\"M0 0h24v24H0V0z\" fill=\"none\"/>\n",
              "    <path d=\"M18.56 5.44l.94 2.06.94-2.06 2.06-.94-2.06-.94-.94-2.06-.94 2.06-2.06.94zm-11 1L8.5 8.5l.94-2.06 2.06-.94-2.06-.94L8.5 2.5l-.94 2.06-2.06.94zm10 10l.94 2.06.94-2.06 2.06-.94-2.06-.94-.94-2.06-.94 2.06-2.06.94z\"/><path d=\"M17.41 7.96l-1.37-1.37c-.4-.4-.92-.59-1.43-.59-.52 0-1.04.2-1.43.59L10.3 9.45l-7.72 7.72c-.78.78-.78 2.05 0 2.83L4 21.41c.39.39.9.59 1.41.59.51 0 1.02-.2 1.41-.59l7.78-7.78 2.81-2.81c.8-.78.8-2.07 0-2.86zM5.41 20L4 18.59l7.72-7.72 1.47 1.35L5.41 20z\"/>\n",
              "  </svg>\n",
              "      </button>\n",
              "      \n",
              "  <style>\n",
              "    .colab-df-container {\n",
              "      display:flex;\n",
              "      flex-wrap:wrap;\n",
              "      gap: 12px;\n",
              "    }\n",
              "\n",
              "    .colab-df-convert {\n",
              "      background-color: #E8F0FE;\n",
              "      border: none;\n",
              "      border-radius: 50%;\n",
              "      cursor: pointer;\n",
              "      display: none;\n",
              "      fill: #1967D2;\n",
              "      height: 32px;\n",
              "      padding: 0 0 0 0;\n",
              "      width: 32px;\n",
              "    }\n",
              "\n",
              "    .colab-df-convert:hover {\n",
              "      background-color: #E2EBFA;\n",
              "      box-shadow: 0px 1px 2px rgba(60, 64, 67, 0.3), 0px 1px 3px 1px rgba(60, 64, 67, 0.15);\n",
              "      fill: #174EA6;\n",
              "    }\n",
              "\n",
              "    [theme=dark] .colab-df-convert {\n",
              "      background-color: #3B4455;\n",
              "      fill: #D2E3FC;\n",
              "    }\n",
              "\n",
              "    [theme=dark] .colab-df-convert:hover {\n",
              "      background-color: #434B5C;\n",
              "      box-shadow: 0px 1px 3px 1px rgba(0, 0, 0, 0.15);\n",
              "      filter: drop-shadow(0px 1px 2px rgba(0, 0, 0, 0.3));\n",
              "      fill: #FFFFFF;\n",
              "    }\n",
              "  </style>\n",
              "\n",
              "      <script>\n",
              "        const buttonEl =\n",
              "          document.querySelector('#df-cef79190-083f-4344-b35d-266db740b7ff button.colab-df-convert');\n",
              "        buttonEl.style.display =\n",
              "          google.colab.kernel.accessAllowed ? 'block' : 'none';\n",
              "\n",
              "        async function convertToInteractive(key) {\n",
              "          const element = document.querySelector('#df-cef79190-083f-4344-b35d-266db740b7ff');\n",
              "          const dataTable =\n",
              "            await google.colab.kernel.invokeFunction('convertToInteractive',\n",
              "                                                     [key], {});\n",
              "          if (!dataTable) return;\n",
              "\n",
              "          const docLinkHtml = 'Like what you see? Visit the ' +\n",
              "            '<a target=\"_blank\" href=https://colab.research.google.com/notebooks/data_table.ipynb>data table notebook</a>'\n",
              "            + ' to learn more about interactive tables.';\n",
              "          element.innerHTML = '';\n",
              "          dataTable['output_type'] = 'display_data';\n",
              "          await google.colab.output.renderOutput(dataTable, element);\n",
              "          const docLink = document.createElement('div');\n",
              "          docLink.innerHTML = docLinkHtml;\n",
              "          element.appendChild(docLink);\n",
              "        }\n",
              "      </script>\n",
              "    </div>\n",
              "  </div>\n",
              "  "
            ]
          },
          "metadata": {},
          "execution_count": 12
        }
      ]
    },
    {
      "cell_type": "markdown",
      "source": [
        "We can now look at the count of each class and look for disparities in the dataset that may influence our output metric or our predictions. The skewness that is evident in a majority of the data is leaning toxic, obscene, and insult (in that order); whereas severe_toxic, threat, and identity_hate have minimal occurences. We should note that threat is the worst-case in this data due to its minimal data so we would be using that as our basis in terms of judging performance as we go forward."
      ],
      "metadata": {
        "id": "-TuyqsOTmV-8"
      }
    },
    {
      "cell_type": "code",
      "execution_count": null,
      "metadata": {
        "id": "stRzG8THvyeA",
        "colab": {
          "base_uri": "https://localhost:8080/",
          "height": 334
        },
        "outputId": "ec8f7f23-580a-4d30-9db7-23316c7b8e44"
      },
      "outputs": [
        {
          "output_type": "stream",
          "name": "stderr",
          "text": [
            "/usr/local/lib/python3.7/dist-packages/seaborn/_decorators.py:43: FutureWarning: Pass the following variables as keyword args: x, y. From version 0.12, the only valid positional argument will be `data`, and passing other arguments without an explicit keyword will result in an error or misinterpretation.\n",
            "  FutureWarning\n"
          ]
        },
        {
          "output_type": "execute_result",
          "data": {
            "text/plain": [
              "Text(0, 0.5, '# of Occurences')"
            ]
          },
          "metadata": {},
          "execution_count": 10
        },
        {
          "output_type": "display_data",
          "data": {
            "text/plain": [
              "<Figure size 432x288 with 1 Axes>"
            ],
            "image/png": "[encoded data removed]"
          },
          "metadata": {
            "needs_background": "light"
          }
        }
      ],
      "source": [
        "categories = ['toxic', 'severe_toxic', 'obscene', 'threat', 'insult', 'identity_hate']\n",
        "y=np.array(df[categories])\n",
        "sum=np.sum(y,axis=0)\n",
        "\n",
        "plots=sns.barplot(categories,sum)\n",
        "for bar in plots.patches:\n",
        "  plt.annotate(format(bar.get_height()),\n",
        "                   (bar.get_x() + bar.get_width() / 2,\n",
        "                    bar.get_height()), ha='center', va='center',\n",
        "                   size=7, xytext=(0, 8),\n",
        "                   textcoords='offset points')\n",
        "plt.xlabel(\"Category\")\n",
        "plt.ylabel(\"# of Occurences\")"
      ]
    },
    {
      "cell_type": "markdown",
      "source": [
        "We can also look at the multiclass labels for each instance. The one trend we notice is an emphasis on rows where all categories are 0. This is an imbalanced dataset. Let's look at the distribution of the X variable i.e. Comment_text to see any patterns."
      ],
      "metadata": {
        "id": "vdRR23mfmbXq"
      }
    },
    {
      "cell_type": "code",
      "source": [
        "sum=np.sum(df[categories],axis=1)\n",
        "sum=sum.value_counts().reset_index(name=\"cnt\")\n",
        "labels =  np.arange(0,7)\n",
        "# labels\n",
        "plt.bar(labels,sum[\"cnt\"],color=\"rgby\")\n",
        "\n",
        "plt.xlabel(\"Sum of OHE labels\")\n",
        "plt.ylabel(\"# of Occurences\")\n"
      ],
      "metadata": {
        "id": "aAVBu2PpmdOL",
        "colab": {
          "base_uri": "https://localhost:8080/",
          "height": 331
        },
        "outputId": "352a264d-70bb-48ea-da26-3756a4f26fee"
      },
      "execution_count": null,
      "outputs": [
        {
          "output_type": "stream",
          "name": "stderr",
          "text": [
            "/usr/local/lib/python3.7/dist-packages/ipykernel_launcher.py:5: MatplotlibDeprecationWarning: Using a string of single character colors as a color sequence is deprecated. Use an explicit list instead.\n",
            "  \"\"\"\n"
          ]
        },
        {
          "output_type": "execute_result",
          "data": {
            "text/plain": [
              "Text(0, 0.5, '# of Occurences')"
            ]
          },
          "metadata": {},
          "execution_count": 14
        },
        {
          "output_type": "display_data",
          "data": {
            "text/plain": [
              "<Figure size 432x288 with 1 Axes>"
            ],
            "image/png": "[encoded data removed]"
          },
          "metadata": {
            "needs_background": "light"
          }
        }
      ]
    },
    {
      "cell_type": "markdown",
      "source": [
        "We also want to know the mean length of our text, which will be used as an intuition later when we are working on text vectorization."
      ],
      "metadata": {
        "id": "UJsqIHhUnu3P"
      }
    },
    {
      "cell_type": "code",
      "source": [
        "print(\"Mean length of document: {0:.2f}\\nTotal number of documents in the corpus: {1:}\".format(df['comment_text'].str.len().mean(),len(df['comment_text'])))"
      ],
      "metadata": {
        "colab": {
          "base_uri": "https://localhost:8080/"
        },
        "id": "3xAkIDfWxdAN",
        "outputId": "66f392d3-d4cc-44f5-8085-03d40561309d"
      },
      "execution_count": null,
      "outputs": [
        {
          "output_type": "stream",
          "name": "stdout",
          "text": [
            "Mean length of document: 391.78\n",
            "Total number of documents in the corpus: 159571\n"
          ]
        }
      ]
    },
    {
      "cell_type": "code",
      "source": [
        "print(\"{0:.2f}% of the documents are greater than 400 document length\".format((np.sum(df['comment_text'].str.len()>400)/len(df['comment_text']))*100))"
      ],
      "metadata": {
        "colab": {
          "base_uri": "https://localhost:8080/"
        },
        "id": "JCHMxp9KoAWY",
        "outputId": "0b08359f-2c90-4b6d-c85c-8eabc4bcdc43"
      },
      "execution_count": null,
      "outputs": [
        {
          "output_type": "stream",
          "name": "stdout",
          "text": [
            "27.22% of the documents are greater than 400 document length\n"
          ]
        }
      ]
    },
    {
      "cell_type": "markdown",
      "source": [
        "Threat seems to be the most imbalanced label as shown below in terms of percentage of the total count\n"
      ],
      "metadata": {
        "id": "7eq_nIhBPl5W"
      }
    },
    {
      "cell_type": "code",
      "source": [
        "for category in categories:\n",
        "  print(\"{0:s}: {1:.2f}%\".format(category,mean(df[category])*100))"
      ],
      "metadata": {
        "id": "lW3fs_0S3_PC",
        "colab": {
          "base_uri": "https://localhost:8080/"
        },
        "outputId": "4c39068c-11b8-434a-b415-cdba9e11b8d3"
      },
      "execution_count": null,
      "outputs": [
        {
          "output_type": "stream",
          "name": "stdout",
          "text": [
            "toxic: 9.58%\n",
            "severe_toxic: 1.00%\n",
            "obscene: 5.29%\n",
            "threat: 0.30%\n",
            "insult: 4.94%\n",
            "identity_hate: 0.88%\n"
          ]
        }
      ]
    },
    {
      "cell_type": "markdown",
      "source": [
        "Let's dive a little deeper into this imbalance problem."
      ],
      "metadata": {
        "id": "lgsNzhcQsFbZ"
      }
    },
    {
      "cell_type": "code",
      "source": [
        "df[categories].value_counts()"
      ],
      "metadata": {
        "colab": {
          "base_uri": "https://localhost:8080/"
        },
        "id": "1f1QO7ibpyhd",
        "outputId": "218895eb-0a0c-43eb-fa10-10bb76e2f9c2"
      },
      "execution_count": null,
      "outputs": [
        {
          "output_type": "execute_result",
          "data": {
            "text/plain": [
              "toxic  severe_toxic  obscene  threat  insult  identity_hate\n",
              "0      0             0        0       0       0                143346\n",
              "1      0             0        0       0       0                  5666\n",
              "                     1        0       1       0                  3800\n",
              "                                      0       0                  1758\n",
              "                     0        0       1       0                  1215\n",
              "       1             1        0       1       0                   989\n",
              "       0             1        0       1       1                   618\n",
              "0      0             1        0       0       0                   317\n",
              "                     0        0       1       0                   301\n",
              "1      1             1        0       1       1                   265\n",
              "0      0             1        0       1       0                   181\n",
              "1      1             1        0       0       0                   158\n",
              "       0             0        0       0       1                   136\n",
              "                                      1       1                   134\n",
              "                     1        1       1       0                   131\n",
              "                     0        1       0       0                   113\n",
              "       1             1        1       1       0                    64\n",
              "       0             1        1       1       1                    56\n",
              "0      0             0        0       0       1                    54\n",
              "1      1             0        0       0       0                    41\n",
              "       0             1        0       0       1                    35\n",
              "       1             1        1       1       1                    31\n",
              "0      0             0        0       1       1                    28\n",
              "                              1       0       0                    22\n",
              "                     1        0       1       1                    18\n",
              "1      0             0        1       1       0                    16\n",
              "       1             0        0       1       0                    14\n",
              "                              1       0       0                    11\n",
              "       0             1        1       0       0                    11\n",
              "                     0        1       0       1                     7\n",
              "       1             0        0       1       1                     7\n",
              "                     1        0       0       1                     6\n",
              "                              1       0       0                     4\n",
              "                     0        0       0       1                     3\n",
              "       0             0        1       1       1                     3\n",
              "0      0             1        0       0       1                     3\n",
              "                     0        1       1       0                     3\n",
              "                     1        1       1       0                     2\n",
              "                                      0       0                     2\n",
              "1      1             0        1       0       1                     1\n",
              "                                      1       0                     1\n",
              "dtype: int64"
            ]
          },
          "metadata": {},
          "execution_count": 18
        }
      ]
    },
    {
      "cell_type": "markdown",
      "source": [
        "The distibution plot shows a skewness in the length of the document, where the majority of stays within the range of 0-1000 characters. The max goes all the way to 5000 in certain cases"
      ],
      "metadata": {
        "id": "i8CLaWMzmd_7"
      }
    },
    {
      "cell_type": "code",
      "source": [
        "commentlen=df[\"comment_text\"].str.len()\n",
        "commentlen.hist(bins=np.arange(0,6000,50))"
      ],
      "metadata": {
        "id": "hqjl1ufNmgsD",
        "colab": {
          "base_uri": "https://localhost:8080/",
          "height": 282
        },
        "outputId": "39a5f54c-dedb-49b2-d584-59e49cacebe0"
      },
      "execution_count": null,
      "outputs": [
        {
          "output_type": "execute_result",
          "data": {
            "text/plain": [
              "<matplotlib.axes._subplots.AxesSubplot at 0x7efd983edb90>"
            ]
          },
          "metadata": {},
          "execution_count": 20
        },
        {
          "output_type": "display_data",
          "data": {
            "text/plain": [
              "<Figure size 432x288 with 1 Axes>"
            ],
            "image/png": "[encoded data removed]"
          },
          "metadata": {
            "needs_background": "light"
          }
        }
      ]
    },
    {
      "cell_type": "markdown",
      "source": [
        "Let's check if there are any empty comments\n",
        "\n"
      ],
      "metadata": {
        "id": "n0DctrD9mlPT"
      }
    },
    {
      "cell_type": "code",
      "source": [
        "commentleng=df[(df[\"comment_text\"].str.len()==0)]\n",
        "# below is another way---probably simpler\n",
        "print(\"Comments\")\n",
        "print('train',df['comment_text'].isnull().sum())\n",
        "print('test',df_test['comment_text'].isnull().sum())\n",
        "# df.drop(commentleng,axis=0,inplace=True)\n",
        "print(\"Categories\")\n",
        "print('train',df[categories].isnull().sum())\n",
        "print('test',df_test[categories].isnull().sum())"
      ],
      "metadata": {
        "id": "Kkc6lNNDmiq7",
        "colab": {
          "base_uri": "https://localhost:8080/"
        },
        "outputId": "b3032e56-d850-4349-dc44-55184f4a9ee1"
      },
      "execution_count": null,
      "outputs": [
        {
          "output_type": "stream",
          "name": "stdout",
          "text": [
            "Comments\n",
            "train 0\n",
            "test 0\n",
            "Categories\n",
            "train toxic            0\n",
            "severe_toxic     0\n",
            "obscene          0\n",
            "threat           0\n",
            "insult           0\n",
            "identity_hate    0\n",
            "dtype: int64\n",
            "test toxic            0\n",
            "severe_toxic     0\n",
            "obscene          0\n",
            "threat           0\n",
            "insult           0\n",
            "identity_hate    0\n",
            "dtype: int64\n"
          ]
        }
      ]
    },
    {
      "cell_type": "code",
      "source": [
        "df.shape"
      ],
      "metadata": {
        "id": "54caqMk0ayFF",
        "colab": {
          "base_uri": "https://localhost:8080/"
        },
        "outputId": "b11af491-63b3-4c4d-b45b-d946c867be30"
      },
      "execution_count": null,
      "outputs": [
        {
          "output_type": "execute_result",
          "data": {
            "text/plain": [
              "(159571, 8)"
            ]
          },
          "metadata": {},
          "execution_count": 22
        }
      ]
    },
    {
      "cell_type": "code",
      "source": [
        "df_test.shape"
      ],
      "metadata": {
        "colab": {
          "base_uri": "https://localhost:8080/"
        },
        "id": "W3UvzeJT75HV",
        "outputId": "534269b6-1bb8-40a6-99c3-9bd57b844880"
      },
      "execution_count": null,
      "outputs": [
        {
          "output_type": "execute_result",
          "data": {
            "text/plain": [
              "(153164, 8)"
            ]
          },
          "metadata": {},
          "execution_count": 23
        }
      ]
    },
    {
      "cell_type": "markdown",
      "source": [
        "Let's just look at the test data a little bit and make sure the one hot encoding makes sense"
      ],
      "metadata": {
        "id": "JkSXimU7x0oZ"
      }
    },
    {
      "cell_type": "code",
      "source": [
        "df_test.head(10)"
      ],
      "metadata": {
        "colab": {
          "base_uri": "https://localhost:8080/",
          "height": 494
        },
        "id": "a87R3WB9uzpQ",
        "outputId": "37117d78-cef9-4332-a662-3905440f483f"
      },
      "execution_count": null,
      "outputs": [
        {
          "output_type": "execute_result",
          "data": {
            "text/plain": [
              "                 id  \\\n",
              "0  00001cee341fdb12   \n",
              "1  0000247867823ef7   \n",
              "2  00013b17ad220c46   \n",
              "3  00017563c3f7919a   \n",
              "4  00017695ad8997eb   \n",
              "5  0001ea8717f6de06   \n",
              "6  00024115d4cbde0f   \n",
              "7  000247e83dcc1211   \n",
              "8  00025358d4737918   \n",
              "9  00026d1092fe71cc   \n",
              "\n",
              "                                                                                                                                                                                                                                                                                                                                                                                                                                                                                                                                                  comment_text  \\\n",
              "0                                                                                                                                                                            Yo bitch Ja Rule is more succesful then you will ever be whats up with you and hating you sad mofuckas...i should bitch slap ur pethedic white faces and get you to kiss my ass you guys sicken me. Ja rule is about pride in da music man. dont diss that shit on him. and nothin is wrong bein like tupac he was a brother too...fuckin white boys get things right next time.,   \n",
              "1                                                                                                                                                                                                                                                                                                                                                                                                                                                                                                                    From RfC The title is fine as it is, IMO.   \n",
              "2                                                                                                                                                                                                                                                                                                                                                                                                                                                                                                                     \" Sources * Zawe Ashton on Lapland — / \"   \n",
              "3                                                                                                                                                                                                                                                                                                                                               :If you have a look back at the source, the information I updated was the correct form. I can only guess the source had not updated. I shall update the information once again but thank you for your message.   \n",
              "4                                                                                                                                                                                                                                                                                                                                                                                                                                                                                                                   I do not anonymously edit articles at all.   \n",
              "5                                                                                                                                                                                                                                                                                                                                                                                                                                                             Thank you for understanding. I think very highly of you and would not revert without discussion.   \n",
              "6                                                                                                                                                                                                                                                                                                                                                                                 Please do not add nonsense to Wikipedia. Such edits are considered vandalism and quickly undone. If you would like to experiment, please use the sandbox instead. Thank you.   \n",
              "7                                                                                                                                                                                                                                                                                                                                                                                                                                                                                                                             :Dear god this site is horrible.   \n",
              "8  \" Only a fool can believe in such numbers. The correct number lies between 10 000 to 15 000. Ponder the numbers carefully. This error will persist for a long time as it continues to reproduce... The latest reproduction I know is from ENCYCLOPÆDIA BRITANNICA ALMANAC 2008 wich states Magnittude: 8.7 (fair enough) victims: 70 000 (today 10 000 to 15 000 is not \"\"a lot\"\" so I guess people just come out with a number that impresses enough, I do not know. But I know this: it is just a shameless lucky number that they throw in the air. GC \"   \n",
              "9                                                                                                                                                                                                                                                                                                                                    Double Redirects When fixing double redirects, do not just blank the outer one, you need edit it to point it to the final target, unless you think it is inappropriate, in which case, it needs to be nominated at WP:RfD   \n",
              "\n",
              "   toxic  severe_toxic  obscene  threat  insult  identity_hate  \n",
              "0     -1            -1       -1      -1      -1             -1  \n",
              "1     -1            -1       -1      -1      -1             -1  \n",
              "2     -1            -1       -1      -1      -1             -1  \n",
              "3     -1            -1       -1      -1      -1             -1  \n",
              "4     -1            -1       -1      -1      -1             -1  \n",
              "5      0             0        0       0       0              0  \n",
              "6     -1            -1       -1      -1      -1             -1  \n",
              "7      0             0        0       0       0              0  \n",
              "8     -1            -1       -1      -1      -1             -1  \n",
              "9     -1            -1       -1      -1      -1             -1  "
            ],
            "text/html": [
              "\n",
              "  <div id=\"df-12d67f41-06ff-4e3d-8b2a-047edfccfa78\">\n",
              "    <div class=\"colab-df-container\">\n",
              "      <div>\n",
              "<style scoped>\n",
              "    .dataframe tbody tr th:only-of-type {\n",
              "        vertical-align: middle;\n",
              "    }\n",
              "\n",
              "    .dataframe tbody tr th {\n",
              "        vertical-align: top;\n",
              "    }\n",
              "\n",
              "    .dataframe thead th {\n",
              "        text-align: right;\n",
              "    }\n",
              "</style>\n",
              "<table border=\"1\" class=\"dataframe\">\n",
              "  <thead>\n",
              "    <tr style=\"text-align: right;\">\n",
              "      <th></th>\n",
              "      <th>id</th>\n",
              "      <th>comment_text</th>\n",
              "      <th>toxic</th>\n",
              "      <th>severe_toxic</th>\n",
              "      <th>obscene</th>\n",
              "      <th>threat</th>\n",
              "      <th>insult</th>\n",
              "      <th>identity_hate</th>\n",
              "    </tr>\n",
              "  </thead>\n",
              "  <tbody>\n",
              "    <tr>\n",
              "      <th>0</th>\n",
              "      <td>00001cee341fdb12</td>\n",
              "      <td>Yo bitch Ja Rule is more succesful then you will ever be whats up with you and hating you sad mofuckas...i should bitch slap ur pethedic white faces and get you to kiss my ass you guys sicken me. Ja rule is about pride in da music man. dont diss that shit on him. and nothin is wrong bein like tupac he was a brother too...fuckin white boys get things right next time.,</td>\n",
              "      <td>-1</td>\n",
              "      <td>-1</td>\n",
              "      <td>-1</td>\n",
              "      <td>-1</td>\n",
              "      <td>-1</td>\n",
              "      <td>-1</td>\n",
              "    </tr>\n",
              "    <tr>\n",
              "      <th>1</th>\n",
              "      <td>0000247867823ef7</td>\n",
              "      <td>From RfC The title is fine as it is, IMO.</td>\n",
              "      <td>-1</td>\n",
              "      <td>-1</td>\n",
              "      <td>-1</td>\n",
              "      <td>-1</td>\n",
              "      <td>-1</td>\n",
              "      <td>-1</td>\n",
              "    </tr>\n",
              "    <tr>\n",
              "      <th>2</th>\n",
              "      <td>00013b17ad220c46</td>\n",
              "      <td>\" Sources * Zawe Ashton on Lapland — / \"</td>\n",
              "      <td>-1</td>\n",
              "      <td>-1</td>\n",
              "      <td>-1</td>\n",
              "      <td>-1</td>\n",
              "      <td>-1</td>\n",
              "      <td>-1</td>\n",
              "    </tr>\n",
              "    <tr>\n",
              "      <th>3</th>\n",
              "      <td>00017563c3f7919a</td>\n",
              "      <td>:If you have a look back at the source, the information I updated was the correct form. I can only guess the source had not updated. I shall update the information once again but thank you for your message.</td>\n",
              "      <td>-1</td>\n",
              "      <td>-1</td>\n",
              "      <td>-1</td>\n",
              "      <td>-1</td>\n",
              "      <td>-1</td>\n",
              "      <td>-1</td>\n",
              "    </tr>\n",
              "    <tr>\n",
              "      <th>4</th>\n",
              "      <td>00017695ad8997eb</td>\n",
              "      <td>I do not anonymously edit articles at all.</td>\n",
              "      <td>-1</td>\n",
              "      <td>-1</td>\n",
              "      <td>-1</td>\n",
              "      <td>-1</td>\n",
              "      <td>-1</td>\n",
              "      <td>-1</td>\n",
              "    </tr>\n",
              "    <tr>\n",
              "      <th>5</th>\n",
              "      <td>0001ea8717f6de06</td>\n",
              "      <td>Thank you for understanding. I think very highly of you and would not revert without discussion.</td>\n",
              "      <td>0</td>\n",
              "      <td>0</td>\n",
              "      <td>0</td>\n",
              "      <td>0</td>\n",
              "      <td>0</td>\n",
              "      <td>0</td>\n",
              "    </tr>\n",
              "    <tr>\n",
              "      <th>6</th>\n",
              "      <td>00024115d4cbde0f</td>\n",
              "      <td>Please do not add nonsense to Wikipedia. Such edits are considered vandalism and quickly undone. If you would like to experiment, please use the sandbox instead. Thank you.</td>\n",
              "      <td>-1</td>\n",
              "      <td>-1</td>\n",
              "      <td>-1</td>\n",
              "      <td>-1</td>\n",
              "      <td>-1</td>\n",
              "      <td>-1</td>\n",
              "    </tr>\n",
              "    <tr>\n",
              "      <th>7</th>\n",
              "      <td>000247e83dcc1211</td>\n",
              "      <td>:Dear god this site is horrible.</td>\n",
              "      <td>0</td>\n",
              "      <td>0</td>\n",
              "      <td>0</td>\n",
              "      <td>0</td>\n",
              "      <td>0</td>\n",
              "      <td>0</td>\n",
              "    </tr>\n",
              "    <tr>\n",
              "      <th>8</th>\n",
              "      <td>00025358d4737918</td>\n",
              "      <td>\" Only a fool can believe in such numbers. The correct number lies between 10 000 to 15 000. Ponder the numbers carefully. This error will persist for a long time as it continues to reproduce... The latest reproduction I know is from ENCYCLOPÆDIA BRITANNICA ALMANAC 2008 wich states Magnittude: 8.7 (fair enough) victims: 70 000 (today 10 000 to 15 000 is not \"\"a lot\"\" so I guess people just come out with a number that impresses enough, I do not know. But I know this: it is just a shameless lucky number that they throw in the air. GC \"</td>\n",
              "      <td>-1</td>\n",
              "      <td>-1</td>\n",
              "      <td>-1</td>\n",
              "      <td>-1</td>\n",
              "      <td>-1</td>\n",
              "      <td>-1</td>\n",
              "    </tr>\n",
              "    <tr>\n",
              "      <th>9</th>\n",
              "      <td>00026d1092fe71cc</td>\n",
              "      <td>Double Redirects When fixing double redirects, do not just blank the outer one, you need edit it to point it to the final target, unless you think it is inappropriate, in which case, it needs to be nominated at WP:RfD</td>\n",
              "      <td>-1</td>\n",
              "      <td>-1</td>\n",
              "      <td>-1</td>\n",
              "      <td>-1</td>\n",
              "      <td>-1</td>\n",
              "      <td>-1</td>\n",
              "    </tr>\n",
              "  </tbody>\n",
              "</table>\n",
              "</div>\n",
              "      <button class=\"colab-df-convert\" onclick=\"convertToInteractive('df-12d67f41-06ff-4e3d-8b2a-047edfccfa78')\"\n",
              "              title=\"Convert this dataframe to an interactive table.\"\n",
              "              style=\"display:none;\">\n",
              "        \n",
              "  <svg xmlns=\"http://www.w3.org/2000/svg\" height=\"24px\"viewBox=\"0 0 24 24\"\n",
              "       width=\"24px\">\n",
              "    <path d=\"M0 0h24v24H0V0z\" fill=\"none\"/>\n",
              "    <path d=\"M18.56 5.44l.94 2.06.94-2.06 2.06-.94-2.06-.94-.94-2.06-.94 2.06-2.06.94zm-11 1L8.5 8.5l.94-2.06 2.06-.94-2.06-.94L8.5 2.5l-.94 2.06-2.06.94zm10 10l.94 2.06.94-2.06 2.06-.94-2.06-.94-.94-2.06-.94 2.06-2.06.94z\"/><path d=\"M17.41 7.96l-1.37-1.37c-.4-.4-.92-.59-1.43-.59-.52 0-1.04.2-1.43.59L10.3 9.45l-7.72 7.72c-.78.78-.78 2.05 0 2.83L4 21.41c.39.39.9.59 1.41.59.51 0 1.02-.2 1.41-.59l7.78-7.78 2.81-2.81c.8-.78.8-2.07 0-2.86zM5.41 20L4 18.59l7.72-7.72 1.47 1.35L5.41 20z\"/>\n",
              "  </svg>\n",
              "      </button>\n",
              "      \n",
              "  <style>\n",
              "    .colab-df-container {\n",
              "      display:flex;\n",
              "      flex-wrap:wrap;\n",
              "      gap: 12px;\n",
              "    }\n",
              "\n",
              "    .colab-df-convert {\n",
              "      background-color: #E8F0FE;\n",
              "      border: none;\n",
              "      border-radius: 50%;\n",
              "      cursor: pointer;\n",
              "      display: none;\n",
              "      fill: #1967D2;\n",
              "      height: 32px;\n",
              "      padding: 0 0 0 0;\n",
              "      width: 32px;\n",
              "    }\n",
              "\n",
              "    .colab-df-convert:hover {\n",
              "      background-color: #E2EBFA;\n",
              "      box-shadow: 0px 1px 2px rgba(60, 64, 67, 0.3), 0px 1px 3px 1px rgba(60, 64, 67, 0.15);\n",
              "      fill: #174EA6;\n",
              "    }\n",
              "\n",
              "    [theme=dark] .colab-df-convert {\n",
              "      background-color: #3B4455;\n",
              "      fill: #D2E3FC;\n",
              "    }\n",
              "\n",
              "    [theme=dark] .colab-df-convert:hover {\n",
              "      background-color: #434B5C;\n",
              "      box-shadow: 0px 1px 3px 1px rgba(0, 0, 0, 0.15);\n",
              "      filter: drop-shadow(0px 1px 2px rgba(0, 0, 0, 0.3));\n",
              "      fill: #FFFFFF;\n",
              "    }\n",
              "  </style>\n",
              "\n",
              "      <script>\n",
              "        const buttonEl =\n",
              "          document.querySelector('#df-12d67f41-06ff-4e3d-8b2a-047edfccfa78 button.colab-df-convert');\n",
              "        buttonEl.style.display =\n",
              "          google.colab.kernel.accessAllowed ? 'block' : 'none';\n",
              "\n",
              "        async function convertToInteractive(key) {\n",
              "          const element = document.querySelector('#df-12d67f41-06ff-4e3d-8b2a-047edfccfa78');\n",
              "          const dataTable =\n",
              "            await google.colab.kernel.invokeFunction('convertToInteractive',\n",
              "                                                     [key], {});\n",
              "          if (!dataTable) return;\n",
              "\n",
              "          const docLinkHtml = 'Like what you see? Visit the ' +\n",
              "            '<a target=\"_blank\" href=https://colab.research.google.com/notebooks/data_table.ipynb>data table notebook</a>'\n",
              "            + ' to learn more about interactive tables.';\n",
              "          element.innerHTML = '';\n",
              "          dataTable['output_type'] = 'display_data';\n",
              "          await google.colab.output.renderOutput(dataTable, element);\n",
              "          const docLink = document.createElement('div');\n",
              "          docLink.innerHTML = docLinkHtml;\n",
              "          element.appendChild(docLink);\n",
              "        }\n",
              "      </script>\n",
              "    </div>\n",
              "  </div>\n",
              "  "
            ]
          },
          "metadata": {},
          "execution_count": 24
        }
      ]
    },
    {
      "cell_type": "markdown",
      "source": [
        "The -1 are documents that have not been scored yet. We can drop them since this will affect our metrics"
      ],
      "metadata": {
        "id": "5UrP7e-xx_Tw"
      }
    },
    {
      "cell_type": "code",
      "source": [
        "np.sum(df_test['toxic']==-1)"
      ],
      "metadata": {
        "colab": {
          "base_uri": "https://localhost:8080/"
        },
        "id": "AMIUKNnauOrF",
        "outputId": "b4e77c2a-2c40-4120-9ff1-20c6eaa547a8"
      },
      "execution_count": null,
      "outputs": [
        {
          "output_type": "execute_result",
          "data": {
            "text/plain": [
              "89186"
            ]
          },
          "metadata": {},
          "execution_count": 12
        }
      ]
    },
    {
      "cell_type": "code",
      "source": [
        "df_test=df_test[df_test['toxic']!=-1]"
      ],
      "metadata": {
        "id": "XUGiC_wutFGJ"
      },
      "execution_count": null,
      "outputs": []
    },
    {
      "cell_type": "code",
      "source": [
        "df_test.shape"
      ],
      "metadata": {
        "colab": {
          "base_uri": "https://localhost:8080/"
        },
        "id": "DF5zVqFGRkrW",
        "outputId": "26e07647-f888-4bfd-f429-c981875cc55e"
      },
      "execution_count": null,
      "outputs": [
        {
          "output_type": "execute_result",
          "data": {
            "text/plain": [
              "(63978, 8)"
            ]
          },
          "metadata": {},
          "execution_count": 21
        }
      ]
    },
    {
      "cell_type": "code",
      "source": [
        "X_train_dtm=df['comment_text']\n",
        "X_test_dtm=df_test['comment_text']\n",
        "print(\"Vectorized feature shapes:\\nX_train_dtm: {}\\nX_test_dtm: {}\".format(X_train_dtm.shape,X_test_dtm.shape))"
      ],
      "metadata": {
        "colab": {
          "base_uri": "https://localhost:8080/"
        },
        "id": "sPdNQUAxyz0G",
        "outputId": "169d8562-ef02-4991-ca67-ef262ae45a66"
      },
      "execution_count": null,
      "outputs": [
        {
          "output_type": "stream",
          "name": "stdout",
          "text": [
            "Vectorized feature shapes:\n",
            "X_train_dtm: (159571,)\n",
            "X_test_dtm: (63978,)\n"
          ]
        }
      ]
    },
    {
      "cell_type": "markdown",
      "source": [
        "# PART 1: CORE ML Classification Models"
      ],
      "metadata": {
        "id": "ArZhJfJ6hkLe"
      }
    },
    {
      "cell_type": "markdown",
      "source": [
        "## **BASIC LOGISTIC REGRESSION WITH CV**"
      ],
      "metadata": {
        "id": "P4-MRuSjTMWE"
      }
    },
    {
      "cell_type": "markdown",
      "source": [
        "Our base model below gives us the ROC AUC values that seem particularly inflated without doing any sort of data adjustment to better the imbalance. "
      ],
      "metadata": {
        "id": "p4DNSR3cZ96Z"
      }
    },
    {
      "cell_type": "code",
      "source": [
        "pipeline=Pipeline([('tfid', TfidfVectorizer(stop_words=\"english\")), ('logistic', LogisticRegression())])\n",
        "mean_roc=[]\n",
        "for category in categories:\n",
        "  LR_y_pred = cross_val_predict(pipeline, X_train_dtm, df[category],cv=3, n_jobs=-1,method=\"decision_function\")\n",
        "  mean_roc.append(roc_auc_score(df[category],LR_y_pred))\n",
        "  fpr,tpr,thresholds=roc_curve(df[category],LR_y_pred)\n",
        "  plt.plot(fpr, tpr, linewidth=2, label=category)\n",
        "  plt.plot([0, 1], [0, 1], 'k--')\n",
        "  print('Mean ROC AUC Score for '+category+': %.3f' % roc_auc_score(df[category],LR_y_pred))\n",
        "print(\"Average ROC AUC over all categories is: {0:.2f}\".format(np.mean(mean_roc)))\n",
        "plt.legend()\n",
        "plt.show()"
      ],
      "metadata": {
        "colab": {
          "base_uri": "https://localhost:8080/",
          "height": 386
        },
        "id": "ieits9_iUgl_",
        "outputId": "5e212fbe-1f22-476a-ebc3-fab2107a2522"
      },
      "execution_count": null,
      "outputs": [
        {
          "output_type": "stream",
          "name": "stdout",
          "text": [
            "Mean ROC AUC Score for toxic: 0.969\n",
            "Mean ROC AUC Score for severe_toxic: 0.985\n",
            "Mean ROC AUC Score for obscene: 0.985\n",
            "Mean ROC AUC Score for threat: 0.980\n",
            "Mean ROC AUC Score for insult: 0.975\n",
            "Mean ROC AUC Score for identity_hate: 0.973\n",
            "Average ROC AUC over all categories is: 0.98\n"
          ]
        },
        {
          "output_type": "display_data",
          "data": {
            "text/plain": [
              "<Figure size 432x288 with 1 Axes>"
            ],
            "image/png": "[encoded data removed]"
          },
          "metadata": {
            "needs_background": "light"
          }
        }
      ]
    },
    {
      "cell_type": "markdown",
      "source": [
        "We will try to bring some balance into our dataset by using `class_weight='balanced'`"
      ],
      "metadata": {
        "id": "s-09kFcM1de7"
      }
    },
    {
      "cell_type": "code",
      "source": [
        "model_balanced=Pipeline([('tfid', TfidfVectorizer(stop_words=\"english\")), ('logistic', LogisticRegression(class_weight=\"balanced\"))])\n",
        "mean_roc_b=[]\n",
        "for category in categories:\n",
        "  LR_y_pred_b = cross_val_predict(model_balanced, X_train_dtm, df[category],cv=3, n_jobs=-1,method='decision_function')\n",
        "  mean_roc_b.append(roc_auc_score(df[category],LR_y_pred_b))\n",
        "  fpr,tpr,thresholds=roc_curve(df[category],LR_y_pred_b)\n",
        "  plt.plot(fpr, tpr, linewidth=2, label=category)\n",
        "  plt.plot([0, 1], [0, 1], 'k--')\n",
        "  print('Mean ROC AUC Score for '+category+': %.3f' % roc_auc_score(df[category],LR_y_pred_b))\n",
        "print(\"Average ROC AUC over all categories is: {0:.2f}\".format(np.mean(mean_roc_b)))\n",
        "plt.legend()\n",
        "plt.show()"
      ],
      "metadata": {
        "colab": {
          "base_uri": "https://localhost:8080/",
          "height": 387
        },
        "id": "zY6pRzQZJGJo",
        "outputId": "064794b5-164f-4f3b-bff2-5d4d5e04b2c8"
      },
      "execution_count": null,
      "outputs": [
        {
          "output_type": "stream",
          "name": "stdout",
          "text": [
            "Mean ROC AUC Score for toxic: 0.969\n",
            "Mean ROC AUC Score for severe_toxic: 0.984\n",
            "Mean ROC AUC Score for obscene: 0.985\n",
            "Mean ROC AUC Score for threat: 0.980\n",
            "Mean ROC AUC Score for insult: 0.976\n",
            "Mean ROC AUC Score for identity_hate: 0.974\n",
            "Average ROC AUC over all categories is: 0.98\n"
          ]
        },
        {
          "output_type": "display_data",
          "data": {
            "text/plain": [
              "<Figure size 432x288 with 1 Axes>"
            ],
            "image/png": "[encoded data removed]"
          },
          "metadata": {
            "needs_background": "light"
          }
        }
      ]
    },
    {
      "cell_type": "markdown",
      "source": [
        "That did not do anything for our worst class (Threat). We can also try to oversample our positive class manually. In this case we can try an extreme example of 1:300 and compare our results from above."
      ],
      "metadata": {
        "id": "JrV064qm1oyf"
      }
    },
    {
      "cell_type": "code",
      "source": [
        "model_adj_weights=Pipeline([('tfid', TfidfVectorizer(stop_words=\"english\")), ('logistic', LogisticRegression(class_weight={0:1,1:300}))])\n",
        "mean_roc_adj_weights=[]\n",
        "for category in categories:\n",
        "  LR_y_pred_adj_weights = cross_val_predict(model_adj_weights, X_train_dtm, df[category],cv=3, n_jobs=-1)\n",
        "  mean_roc_adj_weights.append(roc_auc_score(df[category],LR_y_pred_adj_weights))\n",
        "  fpr,tpr,thresholds=roc_curve(df[category],LR_y_pred_adj_weights)\n",
        "  plt.plot(fpr, tpr, linewidth=2, label=category)\n",
        "  plt.plot([0, 1], [0, 1], 'k--')\n",
        "  print('Mean ROC AUC Score for '+category+': %.3f' % roc_auc_score(df[category],LR_y_pred_adj_weights))\n",
        "print(\"Average ROC AUC over all categories is: {0:.2f}\".format(np.mean(mean_roc_adj_weights)))\n",
        "plt.legend()\n",
        "plt.show()"
      ],
      "metadata": {
        "colab": {
          "base_uri": "https://localhost:8080/",
          "height": 387
        },
        "id": "KTC6-ZD8JQo4",
        "outputId": "41edfece-4b29-43e8-d29d-5424a8d6c477"
      },
      "execution_count": null,
      "outputs": [
        {
          "output_type": "stream",
          "name": "stdout",
          "text": [
            "Mean ROC AUC Score for toxic: 0.895\n",
            "Mean ROC AUC Score for severe_toxic: 0.899\n",
            "Mean ROC AUC Score for obscene: 0.946\n",
            "Mean ROC AUC Score for threat: 0.814\n",
            "Mean ROC AUC Score for insult: 0.926\n",
            "Mean ROC AUC Score for identity_hate: 0.855\n",
            "Average ROC AUC over all categories is: 0.89\n"
          ]
        },
        {
          "output_type": "display_data",
          "data": {
            "text/plain": [
              "<Figure size 432x288 with 1 Axes>"
            ],
            "image/png": "[encoded data removed]"
          },
          "metadata": {
            "needs_background": "light"
          }
        }
      ]
    },
    {
      "cell_type": "markdown",
      "source": [
        "Manual oversampling worked on average for our model but for Threat class, the results were underwhelming. We can also try SMOTE. This adds new examples that can be synthesized from the existing examples. This is a type of data augmentation for the minority class and is referred to as the Synthetic Minority Oversampling Technique, or SMOTE for short."
      ],
      "metadata": {
        "id": "EJRckLO52Nvm"
      }
    },
    {
      "cell_type": "code",
      "source": [
        "steps = [('tfid', TfidfVectorizer(stop_words=\"english\")),('over', SMOTE()), ('model', LogisticRegression())]\n",
        "pipeline = Pipeline(steps=steps)\n",
        "mean_roc_smote=[]\n",
        "for category in categories:\n",
        "  LR_y_pred_smote = cross_val_predict(pipeline, X_train_dtm, df[category],cv=3, n_jobs=-1)\n",
        "  mean_roc_smote.append(roc_auc_score(df[category],LR_y_pred_smote))\n",
        "  fpr,tpr,thresholds=roc_curve(df[category],LR_y_pred_smote)\n",
        "  plt.plot(fpr, tpr, linewidth=2, label=category)\n",
        "  plt.plot([0, 1], [0, 1], 'k--')\n",
        "  print('Mean ROC AUC Score for '+category+': %.3f' % roc_auc_score(df[category],LR_y_pred_smote))\n",
        "print(\"Average ROC AUC over all categories is: {0:.2f}\".format(np.mean(mean_roc_smote)))\n",
        "plt.legend()\n",
        "plt.show()"
      ],
      "metadata": {
        "colab": {
          "base_uri": "https://localhost:8080/",
          "height": 421
        },
        "id": "AN99TdAXUdT6",
        "outputId": "29bcfed5-b142-451d-dc3f-886c70c8731b"
      },
      "execution_count": null,
      "outputs": [
        {
          "output_type": "stream",
          "name": "stdout",
          "text": [
            "Mean ROC AUC Score for toxic: 0.881\n"
          ]
        },
        {
          "output_type": "stream",
          "name": "stderr",
          "text": [
            "/usr/local/lib/python3.7/dist-packages/joblib/externals/loky/process_executor.py:705: UserWarning: A worker stopped while some jobs were given to the executor. This can be caused by a too short worker timeout or by a memory leak.\n",
            "  \"timeout or by a memory leak.\", UserWarning\n"
          ]
        },
        {
          "output_type": "stream",
          "name": "stdout",
          "text": [
            "Mean ROC AUC Score for severe_toxic: 0.895\n",
            "Mean ROC AUC Score for obscene: 0.919\n",
            "Mean ROC AUC Score for threat: 0.822\n",
            "Mean ROC AUC Score for insult: 0.898\n",
            "Mean ROC AUC Score for identity_hate: 0.848\n",
            "Average ROC AUC over all categories is: 0.88\n"
          ]
        },
        {
          "output_type": "display_data",
          "data": {
            "text/plain": [
              "<Figure size 432x288 with 1 Axes>"
            ],
            "image/png": "[encoded data removed]"
          },
          "metadata": {
            "needs_background": "light"
          }
        }
      ]
    },
    {
      "cell_type": "markdown",
      "source": [
        "It will be hard to beat the metrics from Logistic regression, but we will go on and try other methods to get a better intuition of how other methods work and the inherent differences that lead to different results."
      ],
      "metadata": {
        "id": "FbFRvPtO2jyp"
      }
    },
    {
      "cell_type": "markdown",
      "source": [
        "## **MULTILABEL KNEIGHBORS CLASSIFICATION**"
      ],
      "metadata": {
        "id": "JIp7D6ElTSEb"
      }
    },
    {
      "cell_type": "markdown",
      "source": [
        "We move on to KNeighborsClassifier with a multilabel average-macro."
      ],
      "metadata": {
        "id": "WOEWl6b2a165"
      }
    },
    {
      "cell_type": "code",
      "source": [
        "from sklearn.neighbors import KNeighborsClassifier\n",
        "knn_clf=Pipeline([('tfid', TfidfVectorizer(stop_words=\"english\")), ('knn', KNeighborsClassifier())])\n",
        "y_multilabel=df[categories]\n",
        "y_train_pred_kn=cross_val_predict(knn_clf,X_train_dtm,y_multilabel,cv=3)\n",
        "print(\"roc auc\",roc_auc_score(y_multilabel,y_train_pred_kn,average=\"macro\"))"
      ],
      "metadata": {
        "id": "FrOvgw7I9EJJ",
        "colab": {
          "base_uri": "https://localhost:8080/"
        },
        "outputId": "c6d5980a-924d-4b77-8a25-48d9199552da"
      },
      "execution_count": null,
      "outputs": [
        {
          "output_type": "stream",
          "name": "stdout",
          "text": [
            "roc auc 0.5588603970631979\n"
          ]
        }
      ]
    },
    {
      "cell_type": "markdown",
      "source": [
        "## **DECISION TREE CLASSIFICATION**"
      ],
      "metadata": {
        "id": "1uzNDvbhTb9N"
      }
    },
    {
      "cell_type": "markdown",
      "source": [
        "Below we use a decision tree classifier with class weights used to adjust the imbalance. "
      ],
      "metadata": {
        "id": "aKKHCeI_mR4P"
      }
    },
    {
      "cell_type": "code",
      "source": [
        "dt_clf=Pipeline([('tfid', TfidfVectorizer(stop_words=\"english\")), ('dectree', DecisionTreeClassifier(class_weight='balanced'))])\n",
        "for category in categories:\n",
        "  DT_y_pred = cross_val_predict(dt_clf, X_train_dtm, df[category], method='predict_proba',cv=3,  n_jobs=-1)\n",
        "  y_scores_forest=DT_y_pred[:,1]\n",
        "  fpr_forest,tpr_forest,threshold_forest=roc_curve(df[category],y_scores_forest)\n",
        "  ac=auc(fpr_forest,tpr_forest)\n",
        "  print(\"AUC for {0:s}: {1:.2f}\".format(category,ac))"
      ],
      "metadata": {
        "colab": {
          "base_uri": "https://localhost:8080/"
        },
        "id": "fISjLZjrOf9I",
        "outputId": "234c0699-379b-4fb2-c7b0-85016ac9556b"
      },
      "execution_count": null,
      "outputs": [
        {
          "output_type": "stream",
          "name": "stdout",
          "text": [
            "AUC for toxic: 0.83\n",
            "AUC for severe_toxic: 0.73\n",
            "AUC for obscene: 0.89\n",
            "AUC for threat: 0.70\n",
            "AUC for insult: 0.84\n",
            "AUC for identity_hate: 0.71\n"
          ]
        }
      ]
    },
    {
      "cell_type": "markdown",
      "source": [
        "## **GRADIENT BOOSTING WITH XGBOOST AND STRATIFIED K-FOLD CV**"
      ],
      "metadata": {
        "id": "Gor6aDtdTk_H"
      }
    },
    {
      "cell_type": "markdown",
      "source": [
        "We can try XGBoost with StratifiedKFold CV to ensure a good distribution of imbalanced labels. Using XGBoost will also allow for a sequential gradient boosting and fixing of errors to get the best accuracy."
      ],
      "metadata": {
        "id": "z0yeRrDHtN_Y"
      }
    },
    {
      "cell_type": "code",
      "source": [
        "import xgboost\n",
        "kfold = StratifiedKFold(n_splits=5)\n",
        "model=Pipeline([('tfid', TfidfVectorizer(stop_words=\"english\")), ('gboosting',xgboost.XGBClassifier())])\n",
        "# fit model no training data\n",
        "for category in categories:\n",
        "  results = cross_val_score(model, X_train_dtm, df[category], cv=kfold)\n",
        "  print(category)\n",
        "  print(\"Accuracy: %.2f%% (%.2f%%)\" % (results.mean()*100, results.std()*100))\n"
      ],
      "metadata": {
        "colab": {
          "base_uri": "https://localhost:8080/"
        },
        "id": "RFPf_kHVj9_U",
        "outputId": "32eaa916-91d1-4d40-ec1a-62f7813b0a55"
      },
      "execution_count": null,
      "outputs": [
        {
          "output_type": "stream",
          "name": "stdout",
          "text": [
            "toxic\n",
            "Accuracy: 93.84% (0.09%)\n",
            "severe_toxic\n",
            "Accuracy: 99.02% (0.02%)\n",
            "obscene\n",
            "Accuracy: 97.34% (0.03%)\n",
            "threat\n",
            "Accuracy: 99.71% (0.01%)\n",
            "insult\n",
            "Accuracy: 96.45% (0.02%)\n",
            "identity_hate\n",
            "Accuracy: 99.20% (0.02%)\n"
          ]
        }
      ]
    },
    {
      "cell_type": "markdown",
      "source": [
        "## **NAIVE BAYES with MULTILABELS**"
      ],
      "metadata": {
        "id": "6ZiWF2uCmqp1"
      }
    },
    {
      "cell_type": "code",
      "source": [
        "steps = [('tfid', TfidfVectorizer(stop_words=\"english\")),('model', MultinomialNB())]\n",
        "cv = StratifiedKFold()\n",
        "NB_model = Pipeline(steps=steps)\n",
        "f, axes = plt.subplots(1, 6, figsize=(20, 5), sharey='row')\n",
        "for i,category in enumerate(categories):\n",
        "  NB_y_pred = cross_val_predict(NB_model, X_train_dtm, df[category], cv=cv, n_jobs=-1)\n",
        "  # NB_model.fit(X_train_dtm,train[category])\n",
        "  # NB_y_pred=NB_model.predict(X_test_dtm)\n",
        "  cm=confusion_matrix(df[category],NB_y_pred)\n",
        "  disp=ConfusionMatrixDisplay(confusion_matrix=cm)\n",
        "  disp.plot(ax=axes[i], xticks_rotation=45)\n",
        "  disp.ax_.set_title(category)\n",
        "  disp.im_.colorbar.remove()\n",
        "  disp.ax_.set_xlabel('')\n",
        "  if i!=0:\n",
        "      disp.ax_.set_ylabel('')\n",
        "  print(category)\n",
        "  # print(\"f1\",f1_score(df[category],NB_y_pred,average=\"macro\"))\n",
        "  print(\"roc auc\",roc_auc_score(df[category],NB_y_pred,average=\"macro\"))\n",
        "  print('precision',precision_score(df[category],NB_y_pred,average=\"macro\"))\n",
        "  print('recall',recall_score(df[category],NB_y_pred,average=\"macro\"))\n",
        "f.text(0.4, 0.1, 'Predicted label', ha='left')\n",
        "plt.subplots_adjust(wspace=0.60, hspace=0.4)\n",
        "\n",
        "\n",
        "f.colorbar(disp.im_, ax=axes)\n",
        "plt.show()"
      ],
      "metadata": {
        "id": "yDKDpvGwvaiT",
        "colab": {
          "base_uri": "https://localhost:8080/",
          "height": 730
        },
        "outputId": "7b296f7d-1551-43b9-91ac-c65e44a588eb"
      },
      "execution_count": null,
      "outputs": [
        {
          "output_type": "stream",
          "name": "stdout",
          "text": [
            "toxic\n",
            "roc auc 0.5934967932378389\n",
            "precision 0.9568592468443824\n",
            "recall 0.5934967932378389\n",
            "severe_toxic\n",
            "roc auc 0.4999936699245455\n",
            "precision 0.4950021620740871\n",
            "recall 0.4999936699245455\n",
            "obscene\n",
            "roc auc 0.5609767432131426\n",
            "precision 0.9713253388648994\n",
            "recall 0.5609767432131427\n",
            "threat\n",
            "roc auc 0.502092050209205\n",
            "precision 0.9985084822239909\n",
            "recall 0.502092050209205\n",
            "insult\n",
            "roc auc 0.5238645081814386\n",
            "precision 0.9512519591458917\n",
            "recall 0.5238645081814386\n",
            "identity_hate\n",
            "roc auc 0.4999936775286724\n",
            "precision 0.4955975158082084\n",
            "recall 0.4999936775286724\n"
          ]
        },
        {
          "output_type": "display_data",
          "data": {
            "text/plain": [
              "<Figure size 1440x360 with 7 Axes>"
            ],
            "image/png": "[encoded data removed]"
          },
          "metadata": {
            "needs_background": "light"
          }
        }
      ]
    },
    {
      "cell_type": "markdown",
      "source": [
        "# PART 2: Deep Learning for Toxic Text Classification"
      ],
      "metadata": {
        "id": "azccvFuhi8g2"
      }
    },
    {
      "cell_type": "markdown",
      "source": [
        "## **BINARY N-GRAM WITH TF-IDF VECTORIZATION**"
      ],
      "metadata": {
        "id": "GwDq9aeFnpfC"
      }
    },
    {
      "cell_type": "code",
      "source": [
        "from tensorflow.keras.layers import TextVectorization\n",
        "from tensorflow import keras \n",
        "from tensorflow.keras import layers\n",
        "import tensorflow as tf\n",
        "import numpy as np"
      ],
      "metadata": {
        "id": "yEMwGIEkld_t"
      },
      "execution_count": null,
      "outputs": []
    },
    {
      "cell_type": "code",
      "source": [
        "Y_train_dtm=df[categories].values\n",
        "Y_test_dtm=df_test[categories].values\n",
        "X_train=df[\"comment_text\"].values\n",
        "X_test=df[\"comment_text\"].values"
      ],
      "metadata": {
        "id": "Q-SVcJBwhVri"
      },
      "execution_count": null,
      "outputs": []
    },
    {
      "cell_type": "code",
      "source": [
        "print(\"X Train: {}\\nY_train: {}\\nX_test: {}\\nY_test: {}\".format(X_train.shape,Y_train_dtm.shape,X_test.shape,Y_test_dtm.shape))"
      ],
      "metadata": {
        "colab": {
          "base_uri": "https://localhost:8080/"
        },
        "id": "I8r9YChJ4Z4K",
        "outputId": "515f9212-b3c5-4306-8466-e283da77b147"
      },
      "execution_count": null,
      "outputs": [
        {
          "output_type": "stream",
          "name": "stdout",
          "text": [
            "X Train: (159571,)\n",
            "Y_train: (159571, 6)\n",
            "X_test: (159571,)\n",
            "Y_test: (63978, 6)\n"
          ]
        }
      ]
    },
    {
      "cell_type": "code",
      "source": [
        "from sklearn.model_selection import train_test_split\n",
        "X_train, X_val, Y_train, Y_val = train_test_split(X_train, Y_train_dtm, test_size=0.2, random_state=42)"
      ],
      "metadata": {
        "id": "umoCV6rL5AgV"
      },
      "execution_count": null,
      "outputs": []
    },
    {
      "cell_type": "code",
      "source": [
        "print(\"X Train: {}\\nY_train: {}\\nX_test: {}\\nY_test: {}\".format(X_train.shape,Y_train.shape,X_val.shape,Y_val.shape))"
      ],
      "metadata": {
        "colab": {
          "base_uri": "https://localhost:8080/"
        },
        "id": "8l6EvijB5I6K",
        "outputId": "204ef56f-6f81-4939-cef0-843bc7d32eae"
      },
      "execution_count": null,
      "outputs": [
        {
          "output_type": "stream",
          "name": "stdout",
          "text": [
            "X Train: (127656,)\n",
            "Y_train: (127656, 6)\n",
            "X_test: (31915,)\n",
            "Y_test: (31915, 6)\n"
          ]
        }
      ]
    },
    {
      "cell_type": "code",
      "source": [
        "from sklearn.feature_extraction.text import TfidfVectorizer\n",
        "vect=TfidfVectorizer(max_features=20000,stop_words=\"english\",ngram_range=(2,2))\n",
        "X_train=vect.fit_transform(X_train)\n",
        "X_val=vect.transform(X_val)"
      ],
      "metadata": {
        "id": "q45sd3-rIOks"
      },
      "execution_count": null,
      "outputs": []
    },
    {
      "cell_type": "code",
      "source": [
        "print(\"X Train: {}\\nY_train: {}\\nX_test: {}\\nY_test: {}\".format(X_train.shape,Y_train.shape,X_val.shape,Y_val.shape))"
      ],
      "metadata": {
        "colab": {
          "base_uri": "https://localhost:8080/"
        },
        "id": "BhXGE3wNBxZb",
        "outputId": "d418b8cc-15bc-4a19-ad3f-b40244fccffe"
      },
      "execution_count": null,
      "outputs": [
        {
          "output_type": "stream",
          "name": "stdout",
          "text": [
            "X Train: (127656, 20000)\n",
            "Y_train: (127656, 6)\n",
            "X_test: (31915, 20000)\n",
            "Y_test: (31915, 6)\n"
          ]
        }
      ]
    },
    {
      "cell_type": "code",
      "source": [
        "def get_model(max_tokens=20000, hidden_dim=16):\n",
        "    inputs = keras.Input(shape=(max_tokens,))\n",
        "    # processed_inputs=TfidfVectorizer(max_features=20000,stop_words=\"english\",ngram_range=(2,2))(inputs)\n",
        "    x = layers.Dense(hidden_dim, activation=\"relu\")(inputs)\n",
        "    x = layers.Dropout(0.5)(x)\n",
        "    outputs = layers.Dense(6, activation=\"sigmoid\")(x)\n",
        "    model = keras.Model(inputs, outputs)\n",
        "    model.compile(optimizer=\"rmsprop\",\n",
        "                  loss=\"binary_crossentropy\",\n",
        "                  metrics=['AUC'])\n",
        "    return model\n",
        "\n",
        "  "
      ],
      "metadata": {
        "id": "OY0yaTORiWSh"
      },
      "execution_count": null,
      "outputs": []
    },
    {
      "cell_type": "code",
      "source": [
        "# X_train.flatten()\n",
        "model = get_model(X_train.shape[1])\n",
        "model.summary()\n",
        "callbacks = [\n",
        "    keras.callbacks.ModelCheckpoint(\"binary_2gram.keras\",\n",
        "                                    save_best_only=True)\n",
        "]\n",
        "import scipy\n",
        "X_train.sort_indices()\n",
        "X_val.sort_indices()\n",
        "history=model.fit(X_train,Y_train,                   \n",
        "          validation_data=(X_val,Y_val),     \n",
        "          epochs=10,\n",
        "          callbacks=callbacks\n",
        "          )\n",
        "acc=history.history[\"auc\"]\n",
        "val_acc=history.history[\"val_auc\"]\n",
        "loss=history.history[\"loss\"]\n",
        "val_loss=history.history[\"val_loss\"]\n",
        "epochs=range(1,len(acc)+1)\n",
        "\n",
        "plt.plot(epochs,acc,\"bo\", label=\"Training acc\")\n",
        "plt.plot(epochs,val_acc,\"b\", label=\"Validation acc\")\n",
        "plt.title(\"Training and Validation accuracy\")\n",
        "plt.legend()\n",
        "plt.figure()\n",
        "\n",
        "plt.plot(epochs, loss, 'bo', label='Training loss')\n",
        "plt.plot(epochs, val_loss, 'b', label='Validation loss')\n",
        "plt.title('Training and validation loss')\n",
        "plt.legend()\n",
        "\n",
        "plt.show()"
      ],
      "metadata": {
        "id": "IyGfNMFICVc0",
        "colab": {
          "base_uri": "https://localhost:8080/",
          "height": 1000
        },
        "outputId": "45019554-a593-4bf2-eb57-6e62de594c22"
      },
      "execution_count": null,
      "outputs": [
        {
          "output_type": "stream",
          "name": "stdout",
          "text": [
            "Model: \"model\"\n",
            "_________________________________________________________________\n",
            " Layer (type)                Output Shape              Param #   \n",
            "=================================================================\n",
            " input_1 (InputLayer)        [(None, 20000)]           0         \n",
            "                                                                 \n",
            " dense (Dense)               (None, 16)                320016    \n",
            "                                                                 \n",
            " dropout (Dropout)           (None, 16)                0         \n",
            "                                                                 \n",
            " dense_1 (Dense)             (None, 6)                 102       \n",
            "                                                                 \n",
            "=================================================================\n",
            "Total params: 320,118\n",
            "Trainable params: 320,118\n",
            "Non-trainable params: 0\n",
            "_________________________________________________________________\n",
            "Epoch 1/10\n"
          ]
        },
        {
          "output_type": "stream",
          "name": "stderr",
          "text": [
            "/usr/local/lib/python3.7/dist-packages/tensorflow/python/framework/indexed_slices.py:446: UserWarning: Converting sparse IndexedSlices(IndexedSlices(indices=Tensor(\"gradient_tape/model/dense/embedding_lookup_sparse/Reshape_1:0\", shape=(None,), dtype=int32), values=Tensor(\"gradient_tape/model/dense/embedding_lookup_sparse/Reshape:0\", shape=(None, 16), dtype=float32), dense_shape=Tensor(\"gradient_tape/model/dense/embedding_lookup_sparse/Cast:0\", shape=(2,), dtype=int32))) to a dense Tensor of unknown shape. This may consume a large amount of memory.\n",
            "  \"shape. This may consume a large amount of memory.\" % value)\n"
          ]
        },
        {
          "output_type": "stream",
          "name": "stdout",
          "text": [
            "3990/3990 [==============================] - 25s 5ms/step - loss: 0.1772 - auc: 0.7029 - val_loss: 0.1320 - val_auc: 0.8268\n",
            "Epoch 2/10\n",
            "3990/3990 [==============================] - 22s 5ms/step - loss: 0.1338 - auc: 0.8159 - val_loss: 0.1326 - val_auc: 0.8284\n",
            "Epoch 3/10\n",
            "3990/3990 [==============================] - 24s 6ms/step - loss: 0.1336 - auc: 0.8277 - val_loss: 0.1347 - val_auc: 0.8294\n",
            "Epoch 4/10\n",
            "3990/3990 [==============================] - 20s 5ms/step - loss: 0.1347 - auc: 0.8308 - val_loss: 0.1362 - val_auc: 0.8287\n",
            "Epoch 5/10\n",
            "3990/3990 [==============================] - 20s 5ms/step - loss: 0.1365 - auc: 0.8318 - val_loss: 0.1372 - val_auc: 0.8313\n",
            "Epoch 6/10\n",
            "3990/3990 [==============================] - 21s 5ms/step - loss: 0.1375 - auc: 0.8327 - val_loss: 0.1389 - val_auc: 0.8295\n",
            "Epoch 7/10\n",
            "3990/3990 [==============================] - 19s 5ms/step - loss: 0.1393 - auc: 0.8324 - val_loss: 0.1394 - val_auc: 0.8301\n",
            "Epoch 8/10\n",
            "3990/3990 [==============================] - 20s 5ms/step - loss: 0.1397 - auc: 0.8336 - val_loss: 0.1404 - val_auc: 0.8305\n",
            "Epoch 9/10\n",
            "3990/3990 [==============================] - 19s 5ms/step - loss: 0.1411 - auc: 0.8323 - val_loss: 0.1409 - val_auc: 0.8298\n",
            "Epoch 10/10\n",
            "3990/3990 [==============================] - 19s 5ms/step - loss: 0.1416 - auc: 0.8326 - val_loss: 0.1405 - val_auc: 0.8299\n"
          ]
        },
        {
          "output_type": "display_data",
          "data": {
            "text/plain": [
              "<Figure size 432x288 with 1 Axes>"
            ],
            "image/png": "[encoded data removed]"
          },
          "metadata": {
            "needs_background": "light"
          }
        },
        {
          "output_type": "display_data",
          "data": {
            "text/plain": [
              "<Figure size 432x288 with 1 Axes>"
            ],
            "image/png": "[encoded data removed]"
          },
          "metadata": {
            "needs_background": "light"
          }
        }
      ]
    },
    {
      "cell_type": "code",
      "source": [
        "df_train,df_val = train_test_split(df.drop(columns='id'), test_size=0.2, random_state=42)"
      ],
      "metadata": {
        "id": "Y4CFCElGFsW9"
      },
      "execution_count": null,
      "outputs": []
    },
    {
      "cell_type": "code",
      "source": [
        "X_train=df_train['comment_text'].values\n",
        "Y_train=df_train[categories].values\n",
        "X_val=df_val['comment_text'].values\n",
        "Y_val=df_val[categories].values"
      ],
      "metadata": {
        "id": "E_eLhRZyWdCs"
      },
      "execution_count": null,
      "outputs": []
    },
    {
      "cell_type": "code",
      "source": [
        "max_length = 600\n",
        "max_tokens = 30000\n",
        "text_vectorization = layers.TextVectorization(\n",
        "max_tokens=max_tokens,\n",
        "output_mode=\"int\",\n",
        "output_sequence_length=max_length,\n",
        ")\n",
        "text_only_train_ds = X_train\n",
        "text_vectorization.adapt(text_only_train_ds)"
      ],
      "metadata": {
        "id": "I-0YwuwzEkrI"
      },
      "execution_count": null,
      "outputs": []
    },
    {
      "cell_type": "code",
      "source": [
        "X_train_ts=text_vectorization(X_train)\n",
        "X_val_ts=text_vectorization(X_val)"
      ],
      "metadata": {
        "id": "8WF6TclTBCXR"
      },
      "execution_count": null,
      "outputs": []
    },
    {
      "cell_type": "markdown",
      "source": [
        "## BI-DIRECTIONAL LSTM"
      ],
      "metadata": {
        "id": "oJWa4DC-lwwZ"
      }
    },
    {
      "cell_type": "markdown",
      "source": [
        "One thing that’s slightly hurting model performance here is that our input sequences\n",
        "are full of zeros. This comes from our use of the output_sequence_length=max_\n",
        "length option in TextVectorization (with max_length equal to 600): sentences longer\n",
        "than 600 tokens are truncated to a length of 600 tokens, and sentences shorter\n",
        "than 600 tokens are padded with zeros at the end so that they can be concatenated\n",
        "together with other sequences to form contiguous batches."
      ],
      "metadata": {
        "id": "w_Vf__CvopN-"
      }
    },
    {
      "cell_type": "markdown",
      "source": [
        "We need some way to tell the RNN that it should skip these iterations. There’s an\n",
        "API for that: masking.\n",
        "The Embedding layer is capable of generating a “mask” that corresponds to its\n",
        "input data. This mask is a tensor of ones and zeros (or True/False booleans), of shape\n",
        "(batch_size, sequence_length), where the entry mask[i, t] indicates where timestep\n",
        "t of sample i should be skipped or not (the timestep will be skipped if mask[i, t]\n",
        "is 0 or False, and processed otherwise)."
      ],
      "metadata": {
        "id": "CjLAy0JRpakr"
      }
    },
    {
      "cell_type": "markdown",
      "source": [
        "Let’s try retraining our model with masking enabled."
      ],
      "metadata": {
        "id": "PPQ0tEisr_ar"
      }
    },
    {
      "cell_type": "code",
      "source": [
        "inputs = keras.Input(shape=(None,), dtype=\"int64\")\n",
        "embedded = layers.Embedding(\n",
        "input_dim=max_tokens, output_dim=256, mask_zero=True)(inputs)\n",
        "x = layers.Bidirectional(layers.LSTM(32))(embedded)\n",
        "x = layers.Dropout(0.5)(x)\n",
        "outputs = layers.Dense(6, activation=\"sigmoid\")(x)\n",
        "model = keras.Model(inputs, outputs)\n",
        "model.compile(optimizer=\"rmsprop\",\n",
        "loss=\"binary_crossentropy\",\n",
        "metrics=[\"AUC\"])\n",
        "model.summary()\n",
        "callbacks = [\n",
        "keras.callbacks.ModelCheckpoint(\"embeddings_bidir_gru_with_masking.keras\",\n",
        "save_best_only=True)\n",
        "]\n",
        "model.fit(X_train_ts,Y_train, validation_data=(X_val_ts,Y_val), epochs=10,\n",
        "callbacks=callbacks)\n",
        "model = keras.models.load_model(\"embeddings_bidir_gru_with_masking.keras\")\n",
        "int_test_ds=text_vectorization(df_test['comment_text'])\n",
        "print(f\"Test acc: {model.evaluate(int_test_ds,df_test[categories])[1]:.3f}\")"
      ],
      "metadata": {
        "colab": {
          "base_uri": "https://localhost:8080/"
        },
        "id": "w9FCMrS6mPyd",
        "outputId": "cb572303-c651-4ff3-db81-3e034ea83084"
      },
      "execution_count": null,
      "outputs": [
        {
          "output_type": "stream",
          "name": "stdout",
          "text": [
            "Model: \"model_1\"\n",
            "_________________________________________________________________\n",
            " Layer (type)                Output Shape              Param #   \n",
            "=================================================================\n",
            " input_2 (InputLayer)        [(None, None)]            0         \n",
            "                                                                 \n",
            " embedding_1 (Embedding)     (None, None, 256)         7680000   \n",
            "                                                                 \n",
            " bidirectional_1 (Bidirectio  (None, 64)               73984     \n",
            " nal)                                                            \n",
            "                                                                 \n",
            " dropout_1 (Dropout)         (None, 64)                0         \n",
            "                                                                 \n",
            " dense_1 (Dense)             (None, 6)                 390       \n",
            "                                                                 \n",
            "=================================================================\n",
            "Total params: 7,754,374\n",
            "Trainable params: 7,754,374\n",
            "Non-trainable params: 0\n",
            "_________________________________________________________________\n",
            "Epoch 1/10\n",
            "3990/3990 [==============================] - 145s 35ms/step - loss: 0.0671 - auc: 0.9585 - val_loss: 0.0529 - val_auc: 0.9727\n",
            "Epoch 2/10\n",
            "3990/3990 [==============================] - 134s 34ms/step - loss: 0.0520 - auc: 0.9737 - val_loss: 0.0538 - val_auc: 0.9684\n",
            "Epoch 3/10\n",
            "3990/3990 [==============================] - 138s 35ms/step - loss: 0.0498 - auc: 0.9755 - val_loss: 0.0495 - val_auc: 0.9762\n",
            "Epoch 4/10\n",
            "3990/3990 [==============================] - 135s 34ms/step - loss: 0.0482 - auc: 0.9774 - val_loss: 0.0490 - val_auc: 0.9794\n",
            "Epoch 5/10\n",
            "3990/3990 [==============================] - 134s 34ms/step - loss: 0.0468 - auc: 0.9784 - val_loss: 0.0495 - val_auc: 0.9782\n",
            "Epoch 6/10\n",
            "3990/3990 [==============================] - 134s 34ms/step - loss: 0.0455 - auc: 0.9793 - val_loss: 0.0509 - val_auc: 0.9749\n",
            "Epoch 7/10\n",
            "3990/3990 [==============================] - 134s 34ms/step - loss: 0.0443 - auc: 0.9800 - val_loss: 0.0534 - val_auc: 0.9695\n",
            "Epoch 8/10\n",
            "3990/3990 [==============================] - 134s 33ms/step - loss: 0.0426 - auc: 0.9808 - val_loss: 0.0556 - val_auc: 0.9659\n",
            "Epoch 9/10\n",
            "3990/3990 [==============================] - 134s 34ms/step - loss: 0.0411 - auc: 0.9822 - val_loss: 0.0578 - val_auc: 0.9632\n",
            "Epoch 10/10\n",
            "3990/3990 [==============================] - 134s 34ms/step - loss: 0.0399 - auc: 0.9831 - val_loss: 0.0586 - val_auc: 0.9639\n",
            "2000/2000 [==============================] - 33s 15ms/step - loss: 0.0758 - auc: 0.9734\n",
            "Test acc: 0.973\n"
          ]
        }
      ]
    },
    {
      "cell_type": "markdown",
      "source": [
        "## GLOVE PRE-TRAINED WORD EMBEDDINGS"
      ],
      "metadata": {
        "id": "w01-708snkWi"
      }
    },
    {
      "cell_type": "markdown",
      "source": [
        "Sometimes you have so little training data available that you can’t use your data alone\n",
        "to learn an appropriate task-specific embedding of your vocabulary. In such cases,\n",
        "instead of learning word embeddings jointly with the problem you want to solve, you\n",
        "can load embedding vectors from a precomputed embedding space that you know is\n",
        "highly structured and exhibits useful properties—one that captures generic aspects of\n",
        "language structure. The rationale behind using pretrained word embeddings in natural\n",
        "language processing is much the same as for using pretrained convnets in image\n",
        "classification: you don’t have enough data available to learn truly powerful features on\n",
        "your own, but you expect that the features you need are fairly generic—that is, common\n",
        "visual features or semantic features. In this case, it makes sense to reuse features\n",
        "learned on a different problem."
      ],
      "metadata": {
        "id": "0gyCYGV3sA1a"
      }
    },
    {
      "cell_type": "code",
      "source": [
        "!wget http:/ /nlp.stanford.edu/data/glove.6B.zip\n",
        "!unzip -q glove.6B.zip"
      ],
      "metadata": {
        "colab": {
          "base_uri": "https://localhost:8080/"
        },
        "id": "hZgEKN9UsPx6",
        "outputId": "210bd7ae-a1fd-44c0-b206-c1e3e2d59f6d"
      },
      "execution_count": null,
      "outputs": [
        {
          "output_type": "stream",
          "name": "stdout",
          "text": [
            "--2022-03-16 16:59:34--  ftp://http//\n",
            "           => ‘.listing’\n",
            "Resolving http (http)... failed: Name or service not known.\n",
            "wget: unable to resolve host address ‘http’\n",
            "/nlp.stanford.edu/data/glove.6B.zip: Scheme missing.\n",
            "unzip:  cannot find or open glove.6B.zip, glove.6B.zip.zip or glove.6B.zip.ZIP.\n"
          ]
        }
      ]
    },
    {
      "cell_type": "code",
      "source": [
        "import numpy as np\n",
        "path_to_glove_file = \"/content/drive/My Drive/Datasets/Kaggle/WordEmbeddings/glove.6B.100d.txt\"\n",
        "embeddings_index = {}\n",
        "with open(path_to_glove_file) as f:\n",
        "  for line in f:\n",
        "    word, coefs = line.split(maxsplit=1)\n",
        "    coefs = np.fromstring(coefs, \"f\", sep=\" \")\n",
        "    embeddings_index[word] = coefs\n",
        "print(f\"Found {len(embeddings_index)} word vectors.\")"
      ],
      "metadata": {
        "colab": {
          "base_uri": "https://localhost:8080/"
        },
        "id": "TqOahSZasxUx",
        "outputId": "5d09d288-f2cb-40e6-9972-4538051d273a"
      },
      "execution_count": null,
      "outputs": [
        {
          "output_type": "stream",
          "name": "stdout",
          "text": [
            "Found 400000 word vectors.\n"
          ]
        }
      ]
    },
    {
      "cell_type": "markdown",
      "source": [
        "Next, let’s build an embedding matrix that you can load into an Embedding layer. It\n",
        "must be a matrix of shape (max_words, embedding_dim), where each entry i contains\n",
        "the embedding_dim-dimensional vector for the word of index i in the reference word\n",
        "index (built during tokenization)."
      ],
      "metadata": {
        "id": "V5PjJ32Y3l5m"
      }
    },
    {
      "cell_type": "code",
      "source": [
        "embedding_dim = 100\n",
        "vocabulary = text_vectorization.get_vocabulary()\n",
        "word_index = dict(zip(vocabulary, range(len(vocabulary))))\n",
        "embedding_matrix = np.zeros((max_tokens, embedding_dim))\n",
        "for word, i in word_index.items():\n",
        "  if i < max_tokens:\n",
        "    embedding_vector = embeddings_index.get(word)\n",
        "  if embedding_vector is not None:\n",
        "    embedding_matrix[i] = embedding_vector"
      ],
      "metadata": {
        "id": "BPx8j5Azs03h"
      },
      "execution_count": null,
      "outputs": []
    },
    {
      "cell_type": "markdown",
      "source": [
        "Finally, we use a Constant initializer to load the pretrained embeddings in an Embedding\n",
        "layer. So as not to disrupt the pretrained representations during training, we freeze\n",
        "the layer via `trainable=False`:"
      ],
      "metadata": {
        "id": "CBDwKL_i3s5O"
      }
    },
    {
      "cell_type": "code",
      "source": [
        "embedding_layer = layers.Embedding(\n",
        "max_tokens,\n",
        "embedding_dim,\n",
        "embeddings_initializer=keras.initializers.Constant(embedding_matrix),trainable=False,\n",
        "mask_zero=True,\n",
        ")"
      ],
      "metadata": {
        "id": "Qd6oMcAR3x59"
      },
      "execution_count": null,
      "outputs": []
    },
    {
      "cell_type": "markdown",
      "source": [
        "We’re now ready to train a new model—identical to our previous model, but leveraging\n",
        "the 100-dimensional pretrained GloVe embeddings instead of 128-dimensional\n",
        "learned embeddings."
      ],
      "metadata": {
        "id": "Rzc3brVH3_LV"
      }
    },
    {
      "cell_type": "code",
      "source": [
        "inputs = keras.Input(shape=(None,), dtype=\"int64\")\n",
        "embedded = embedding_layer(inputs)\n",
        "x = layers.Bidirectional(layers.LSTM(32))(embedded)\n",
        "x = layers.Dropout(0.5)(x)\n",
        "outputs = layers.Dense(6, activation=\"sigmoid\")(x)\n",
        "model = keras.Model(inputs, outputs)\n",
        "model.compile(optimizer=\"rmsprop\",\n",
        "loss=\"binary_crossentropy\",\n",
        "metrics=[\"AUC\"])\n",
        "model.summary()\n",
        "callbacks = [\n",
        "keras.callbacks.ModelCheckpoint(\"glove_embeddings_sequence_model.keras\",\n",
        "save_best_only=True)\n",
        "]\n",
        "history=model.fit(X_train_ts,Y_train, validation_data=(X_val_ts,Y_val), epochs=10,\n",
        "callbacks=callbacks)\n",
        "model = keras.models.load_model(\"glove_embeddings_sequence_model.keras\")\n",
        "int_test_ds=text_vectorization(df_test['comment_text'])\n",
        "print(f\"Test acc: {model.evaluate(int_test_ds,df_test[categories])[1]:.3f}\")"
      ],
      "metadata": {
        "colab": {
          "base_uri": "https://localhost:8080/"
        },
        "id": "AVx1ETC138rm",
        "outputId": "2bdaaf56-ad57-4a34-8052-0ed9c8e30151"
      },
      "execution_count": null,
      "outputs": [
        {
          "output_type": "stream",
          "name": "stdout",
          "text": [
            "Model: \"model_2\"\n",
            "_________________________________________________________________\n",
            " Layer (type)                Output Shape              Param #   \n",
            "=================================================================\n",
            " input_3 (InputLayer)        [(None, None)]            0         \n",
            "                                                                 \n",
            " embedding_2 (Embedding)     (None, None, 100)         3000000   \n",
            "                                                                 \n",
            " bidirectional_2 (Bidirectio  (None, 64)               34048     \n",
            " nal)                                                            \n",
            "                                                                 \n",
            " dropout_2 (Dropout)         (None, 64)                0         \n",
            "                                                                 \n",
            " dense_2 (Dense)             (None, 6)                 390       \n",
            "                                                                 \n",
            "=================================================================\n",
            "Total params: 3,034,438\n",
            "Trainable params: 34,438\n",
            "Non-trainable params: 3,000,000\n",
            "_________________________________________________________________\n",
            "Epoch 1/10\n",
            "3990/3990 [==============================] - 137s 32ms/step - loss: 0.0712 - auc: 0.9546 - val_loss: 0.0570 - val_auc: 0.9725\n",
            "Epoch 2/10\n",
            "3990/3990 [==============================] - 126s 32ms/step - loss: 0.0565 - auc: 0.9711 - val_loss: 0.0512 - val_auc: 0.9782\n",
            "Epoch 3/10\n",
            "3990/3990 [==============================] - 124s 31ms/step - loss: 0.0532 - auc: 0.9744 - val_loss: 0.0516 - val_auc: 0.9749\n",
            "Epoch 4/10\n",
            "3990/3990 [==============================] - 128s 32ms/step - loss: 0.0513 - auc: 0.9763 - val_loss: 0.0489 - val_auc: 0.9804\n",
            "Epoch 5/10\n",
            "3990/3990 [==============================] - 126s 32ms/step - loss: 0.0502 - auc: 0.9769 - val_loss: 0.0489 - val_auc: 0.9790\n",
            "Epoch 6/10\n",
            "3990/3990 [==============================] - 126s 32ms/step - loss: 0.0492 - auc: 0.9779 - val_loss: 0.0488 - val_auc: 0.9784\n",
            "Epoch 7/10\n",
            "3990/3990 [==============================] - 124s 31ms/step - loss: 0.0485 - auc: 0.9784 - val_loss: 0.0497 - val_auc: 0.9769\n",
            "Epoch 8/10\n",
            "3990/3990 [==============================] - 124s 31ms/step - loss: 0.0481 - auc: 0.9786 - val_loss: 0.0491 - val_auc: 0.9775\n",
            "Epoch 9/10\n",
            "3990/3990 [==============================] - 124s 31ms/step - loss: 0.0472 - auc: 0.9795 - val_loss: 0.0549 - val_auc: 0.9661\n",
            "Epoch 10/10\n",
            "3990/3990 [==============================] - 124s 31ms/step - loss: 0.0470 - auc: 0.9800 - val_loss: 0.0512 - val_auc: 0.9727\n",
            "2000/2000 [==============================] - 32s 15ms/step - loss: 0.0729 - auc: 0.9703\n",
            "Test acc: 0.970\n"
          ]
        }
      ]
    },
    {
      "cell_type": "markdown",
      "source": [
        "You’ll find that on this particular task, pretrained embeddings aren’t very helpful,\n",
        "because the dataset contains enough samples that it is possible to learn a specialized\n",
        "enough embedding space from scratch. However, leveraging pretrained embeddings\n",
        "can be very helpful when you’re working with a smaller dataset."
      ],
      "metadata": {
        "id": "gdAgXbY54cIO"
      }
    },
    {
      "cell_type": "markdown",
      "source": [
        "## **TRANSFORMERS**"
      ],
      "metadata": {
        "id": "GoO7vwQnnnsa"
      }
    },
    {
      "cell_type": "code",
      "source": [
        "import tensorflow as tf\n",
        "from tensorflow import keras\n",
        "from tensorflow.keras import layers\n",
        "  \n",
        "class TransformerEncoder(layers.Layer):\n",
        "    def __init__(self, embed_dim, dense_dim, num_heads, **kwargs):\n",
        "        super().__init__(**kwargs)\n",
        "        self.embed_dim = embed_dim                         \n",
        "        self.dense_dim = dense_dim                         \n",
        "        self.num_heads = num_heads                         \n",
        "        self.attention = layers.MultiHeadAttention(\n",
        "            num_heads=num_heads, key_dim=embed_dim)\n",
        "        self.dense_proj = keras.Sequential(\n",
        "            [layers.Dense(dense_dim, activation=\"relu\"),\n",
        "             layers.Dense(embed_dim),]\n",
        "        )\n",
        "        self.layernorm_1 = layers.LayerNormalization()\n",
        "        self.layernorm_2 = layers.LayerNormalization()\n",
        "    def call(self, inputs, mask=None):                    \n",
        "        if mask is not None:                              \n",
        "            mask = mask[:, tf.newaxis, :]                 \n",
        "        attention_output = self.attention(\n",
        "            inputs, inputs, attention_mask=mask)\n",
        "        proj_input = self.layernorm_1(inputs + attention_output)\n",
        "        proj_output = self.dense_proj(proj_input)\n",
        "        return self.layernorm_2(proj_input + proj_output)\n",
        "  \n",
        "    def get_config(self):                                 \n",
        "        config = super().get_config()\n",
        "        config.update({\n",
        "            \"embed_dim\": self.embed_dim,\n",
        "            \"num_heads\": self.num_heads,\n",
        "            \"dense_dim\": self.dense_dim,\n",
        "        })\n",
        "        return config"
      ],
      "metadata": {
        "id": "Ha3VhNMN4gY-"
      },
      "execution_count": null,
      "outputs": []
    },
    {
      "cell_type": "markdown",
      "source": [
        "Transformer was a hybrid approach that is technically order-agnostic, but that manually injects order information in the representations it processes. This is the missing ingredient! It’s called positional encoding."
      ],
      "metadata": {
        "id": "cqx6NrHdukC0"
      }
    },
    {
      "cell_type": "markdown",
      "source": [
        "The original “Attention is all you need” paper used an interesting trick to encode word positions: it added to the word embeddings a vector containing values in the range [-1, 1] that varied cyclically depending on the position (it used cosine functions to achieve this). This trick offers a way to uniquely characterize any integer in a large range via a vector of small values. It’s clever, but it’s not what we’re going to use in our case. We’ll do something simpler and more effective: we’ll learn position-embedding vectors the same way we learn to embed word indices. We’ll then proceed to add our position embeddings to the corresponding word embeddings, to obtain a position-aware word embedding. This technique is called “positional embedding.”"
      ],
      "metadata": {
        "id": "2cp9BilXvbGv"
      }
    },
    {
      "cell_type": "code",
      "source": [
        "class PositionalEmbedding(layers.Layer):\n",
        "    def __init__(self, sequence_length, input_dim, output_dim, **kwargs):  \n",
        "        super().__init__(**kwargs)\n",
        "        self.token_embeddings = layers.Embedding(                          \n",
        "            input_dim=input_dim, output_dim=output_dim)\n",
        "        self.position_embeddings = layers.Embedding(\n",
        "            input_dim=sequence_length, output_dim=output_dim)              \n",
        "        self.sequence_length = sequence_length\n",
        "        self.input_dim = input_dim\n",
        "        self.output_dim = output_dim\n",
        "  \n",
        "    def call(self, inputs):\n",
        "        length = tf.shape(inputs)[-1]\n",
        "        positions = tf.range(start=0, limit=length, delta=1)\n",
        "        embedded_tokens = self.token_embeddings(inputs)\n",
        "        embedded_positions = self.position_embeddings(positions)\n",
        "        return embedded_tokens + embedded_positions                        \n",
        " \n",
        "    def compute_mask(self, inputs, mask=None):                             \n",
        "        return tf.math.not_equal(inputs, 0)                                \n",
        " \n",
        "    def get_config(self):                                                  \n",
        "        config = super().get_config()\n",
        "        config.update({\n",
        "            \"output_dim\": self.output_dim,\n",
        "            \"sequence_length\": self.sequence_length,\n",
        "            \"input_dim\": self.input_dim,\n",
        "        })\n",
        "        return config"
      ],
      "metadata": {
        "id": "n28tW8eMukzq"
      },
      "execution_count": null,
      "outputs": []
    },
    {
      "cell_type": "code",
      "source": [
        "vocab_size = 20000 \n",
        "sequence_length = 600 \n",
        "embed_dim = 256 \n",
        "num_heads = 2 \n",
        "dense_dim = 32 \n",
        "  \n",
        "inputs = keras.Input(shape=(None,), dtype=\"int64\")\n",
        "x = PositionalEmbedding(sequence_length, vocab_size, embed_dim)(inputs)   \n",
        "x = TransformerEncoder(embed_dim, dense_dim, num_heads)(x)\n",
        "x = layers.GlobalMaxPooling1D()(x)\n",
        "x = layers.Dropout(0.5)(x)\n",
        "outputs = layers.Dense(6, activation=\"sigmoid\")(x)\n",
        "model = keras.Model(inputs, outputs)\n",
        "model.compile(optimizer=\"rmsprop\",\n",
        "              loss=\"binary_crossentropy\",\n",
        "              metrics=[\"AUC\"])\n",
        "model.summary()\n",
        "  \n",
        "callbacks = [\n",
        "    keras.callbacks.ModelCheckpoint(\"full_transformer_encoder.keras\",\n",
        "                                    save_best_only=True)\n",
        "] \n",
        "history=model.fit(X_train_ts,Y_train, validation_data=(X_val_ts,Y_val), epochs=20, callbacks=callbacks)\n",
        "model = keras.models.load_model(\n",
        "    \"full_transformer_encoder.keras\",\n",
        "    custom_objects={\"TransformerEncoder\": TransformerEncoder,\n",
        "                    \"PositionalEmbedding\": PositionalEmbedding}) \n",
        "int_test_ds=text_vectorization(df_test['comment_text'])\n",
        "print(f\"Test acc: {model.evaluate(int_test_ds,df_test[categories])[1]:.3f}\")"
      ],
      "metadata": {
        "colab": {
          "base_uri": "https://localhost:8080/"
        },
        "id": "WSLHP_MYvrZt",
        "outputId": "33bf3ae4-245c-4169-d99f-fcf6067fe0e1"
      },
      "execution_count": null,
      "outputs": [
        {
          "output_type": "stream",
          "name": "stdout",
          "text": [
            "Model: \"model\"\n",
            "_________________________________________________________________\n",
            " Layer (type)                Output Shape              Param #   \n",
            "=================================================================\n",
            " input_1 (InputLayer)        [(None, None)]            0         \n",
            "                                                                 \n",
            " positional_embedding (Posit  (None, None, 256)        5273600   \n",
            " ionalEmbedding)                                                 \n",
            "                                                                 \n",
            " transformer_encoder (Transf  (None, None, 256)        543776    \n",
            " ormerEncoder)                                                   \n",
            "                                                                 \n",
            " global_max_pooling1d (Globa  (None, 256)              0         \n",
            " lMaxPooling1D)                                                  \n",
            "                                                                 \n",
            " dropout (Dropout)           (None, 256)               0         \n",
            "                                                                 \n",
            " dense_2 (Dense)             (None, 6)                 1542      \n",
            "                                                                 \n",
            "=================================================================\n",
            "Total params: 5,818,918\n",
            "Trainable params: 5,818,918\n",
            "Non-trainable params: 0\n",
            "_________________________________________________________________\n",
            "Epoch 1/20\n",
            "3990/3990 [==============================] - 207s 50ms/step - loss: 0.0664 - auc: 0.9579 - val_loss: 0.0540 - val_auc: 0.9742\n",
            "Epoch 2/20\n",
            "3990/3990 [==============================] - 199s 50ms/step - loss: 0.0575 - auc: 0.9684 - val_loss: 0.1130 - val_auc: 0.9695\n",
            "Epoch 3/20\n",
            "3990/3990 [==============================] - 199s 50ms/step - loss: 0.0556 - auc: 0.9708 - val_loss: 0.0545 - val_auc: 0.9696\n",
            "Epoch 4/20\n",
            "3990/3990 [==============================] - 199s 50ms/step - loss: 0.0551 - auc: 0.9706 - val_loss: 0.0530 - val_auc: 0.9749\n",
            "Epoch 5/20\n",
            "3990/3990 [==============================] - 199s 50ms/step - loss: 0.0546 - auc: 0.9715 - val_loss: 0.0574 - val_auc: 0.9665\n",
            "Epoch 6/20\n",
            "3990/3990 [==============================] - 198s 50ms/step - loss: 0.0545 - auc: 0.9713 - val_loss: 0.0559 - val_auc: 0.9753\n",
            "Epoch 7/20\n",
            "3990/3990 [==============================] - 199s 50ms/step - loss: 0.0540 - auc: 0.9718 - val_loss: 0.0541 - val_auc: 0.9748\n",
            "Epoch 8/20\n",
            "3990/3990 [==============================] - 199s 50ms/step - loss: 0.0548 - auc: 0.9707 - val_loss: 0.0575 - val_auc: 0.9696\n",
            "Epoch 9/20\n",
            "3990/3990 [==============================] - 199s 50ms/step - loss: 0.0551 - auc: 0.9702 - val_loss: 0.0563 - val_auc: 0.9701\n",
            "Epoch 10/20\n",
            "3990/3990 [==============================] - 198s 50ms/step - loss: 0.0555 - auc: 0.9701 - val_loss: 0.0611 - val_auc: 0.9717\n",
            "Epoch 11/20\n",
            "3990/3990 [==============================] - 199s 50ms/step - loss: 0.0559 - auc: 0.9690 - val_loss: 0.0578 - val_auc: 0.9676\n",
            "Epoch 12/20\n",
            "3990/3990 [==============================] - 199s 50ms/step - loss: 0.0557 - auc: 0.9696 - val_loss: 0.0563 - val_auc: 0.9658\n",
            "Epoch 13/20\n",
            "3990/3990 [==============================] - 199s 50ms/step - loss: 0.0568 - auc: 0.9679 - val_loss: 0.0596 - val_auc: 0.9637\n",
            "Epoch 14/20\n",
            "3990/3990 [==============================] - 199s 50ms/step - loss: 0.0570 - auc: 0.9665 - val_loss: 0.0611 - val_auc: 0.9611\n",
            "Epoch 15/20\n",
            "3990/3990 [==============================] - 199s 50ms/step - loss: 0.0574 - auc: 0.9666 - val_loss: 0.0574 - val_auc: 0.9677\n",
            "Epoch 16/20\n",
            "3990/3990 [==============================] - 198s 50ms/step - loss: 0.0612 - auc: 0.9608 - val_loss: 0.0626 - val_auc: 0.9577\n",
            "Epoch 17/20\n",
            "3990/3990 [==============================] - 198s 50ms/step - loss: 0.0625 - auc: 0.9586 - val_loss: 0.0622 - val_auc: 0.9616\n",
            "Epoch 18/20\n",
            "3990/3990 [==============================] - 198s 50ms/step - loss: 0.0623 - auc: 0.9575 - val_loss: 0.0627 - val_auc: 0.9549\n",
            "Epoch 19/20\n",
            "3990/3990 [==============================] - 198s 50ms/step - loss: 0.0605 - auc: 0.9604 - val_loss: 0.0613 - val_auc: 0.9638\n",
            "Epoch 20/20\n",
            "3990/3990 [==============================] - 198s 50ms/step - loss: 0.0593 - auc: 0.9620 - val_loss: 0.0565 - val_auc: 0.9667\n",
            "2000/2000 [==============================] - 39s 19ms/step - loss: 0.0777 - auc: 0.9699\n",
            "Test acc: 0.970\n"
          ]
        }
      ]
    },
    {
      "cell_type": "markdown",
      "source": [
        "# Conclusion"
      ],
      "metadata": {
        "id": "p1OmLDeLpAh8"
      }
    },
    {
      "cell_type": "markdown",
      "source": [
        "The above analysis shows that the Logistic regression with a BOW model gave us the best results with almost 99% AUC. On the other hand bi-gram and deep learning fell short in terms of performance. It is fair to say that sometimes the simplest model is the best model. We were able to see how all these models are implemented and how they performed. "
      ],
      "metadata": {
        "id": "jzWc9MOfpIdw"
      }
    }
  ],
  "metadata": {
    "colab": {
      "collapsed_sections": [],
      "name": "Kaggle-Project-AS.ipynb",
      "provenance": [],
      "machine_shape": "hm",
      "include_colab_link": true
    },
    "kernelspec": {
      "display_name": "Python 3",
      "language": "python",
      "name": "python3"
    },
    "language_info": {
      "codemirror_mode": {
        "name": "ipython",
        "version": 3
      },
      "file_extension": ".py",
      "mimetype": "text/x-python",
      "name": "python",
      "nbconvert_exporter": "python",
      "pygments_lexer": "ipython3",
      "version": "3.8.5"
    },
    "accelerator": "GPU"
  },
  "nbformat": 4,
  "nbformat_minor": 0
}